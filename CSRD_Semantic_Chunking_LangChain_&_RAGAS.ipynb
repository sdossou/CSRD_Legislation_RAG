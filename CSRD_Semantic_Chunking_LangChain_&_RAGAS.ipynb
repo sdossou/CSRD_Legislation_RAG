{
  "nbformat": 4,
  "nbformat_minor": 0,
  "metadata": {
    "colab": {
      "provenance": [],
      "include_colab_link": true
    },
    "kernelspec": {
      "name": "python3",
      "display_name": "Python 3"
    },
    "language_info": {
      "name": "python"
    },
    "widgets": {
      "application/vnd.jupyter.widget-state+json": {
        "3574b9af0da24367bba7bf150bd00925": {
          "model_module": "@jupyter-widgets/controls",
          "model_name": "HBoxModel",
          "model_module_version": "1.5.0",
          "state": {
            "_dom_classes": [],
            "_model_module": "@jupyter-widgets/controls",
            "_model_module_version": "1.5.0",
            "_model_name": "HBoxModel",
            "_view_count": null,
            "_view_module": "@jupyter-widgets/controls",
            "_view_module_version": "1.5.0",
            "_view_name": "HBoxView",
            "box_style": "",
            "children": [
              "IPY_MODEL_c5395dbee5684516991a50665bcdff0d",
              "IPY_MODEL_9d74ddc374bd448aa84ef679a17523b1",
              "IPY_MODEL_b964c9b5eda247a28e64007f3aa870f3"
            ],
            "layout": "IPY_MODEL_2320ec5e0377428d96c4eb8803c50cb6"
          }
        },
        "c5395dbee5684516991a50665bcdff0d": {
          "model_module": "@jupyter-widgets/controls",
          "model_name": "HTMLModel",
          "model_module_version": "1.5.0",
          "state": {
            "_dom_classes": [],
            "_model_module": "@jupyter-widgets/controls",
            "_model_module_version": "1.5.0",
            "_model_name": "HTMLModel",
            "_view_count": null,
            "_view_module": "@jupyter-widgets/controls",
            "_view_module_version": "1.5.0",
            "_view_name": "HTMLView",
            "description": "",
            "description_tooltip": null,
            "layout": "IPY_MODEL_648d9a32f1544913955db335f365f5a7",
            "placeholder": "​",
            "style": "IPY_MODEL_b22ac0eb9e8a41d2898a895081a8f500",
            "value": "Evaluating: 100%"
          }
        },
        "9d74ddc374bd448aa84ef679a17523b1": {
          "model_module": "@jupyter-widgets/controls",
          "model_name": "FloatProgressModel",
          "model_module_version": "1.5.0",
          "state": {
            "_dom_classes": [],
            "_model_module": "@jupyter-widgets/controls",
            "_model_module_version": "1.5.0",
            "_model_name": "FloatProgressModel",
            "_view_count": null,
            "_view_module": "@jupyter-widgets/controls",
            "_view_module_version": "1.5.0",
            "_view_name": "ProgressView",
            "bar_style": "success",
            "description": "",
            "description_tooltip": null,
            "layout": "IPY_MODEL_72aa01a7d9b7493fbbd2fcaaca3e9a9c",
            "max": 40,
            "min": 0,
            "orientation": "horizontal",
            "style": "IPY_MODEL_df304c4e7dee49789125cc052e96b15a",
            "value": 40
          }
        },
        "b964c9b5eda247a28e64007f3aa870f3": {
          "model_module": "@jupyter-widgets/controls",
          "model_name": "HTMLModel",
          "model_module_version": "1.5.0",
          "state": {
            "_dom_classes": [],
            "_model_module": "@jupyter-widgets/controls",
            "_model_module_version": "1.5.0",
            "_model_name": "HTMLModel",
            "_view_count": null,
            "_view_module": "@jupyter-widgets/controls",
            "_view_module_version": "1.5.0",
            "_view_name": "HTMLView",
            "description": "",
            "description_tooltip": null,
            "layout": "IPY_MODEL_e5518d2a77a54e87904d813d1d0ee114",
            "placeholder": "​",
            "style": "IPY_MODEL_351185488f7449f19dbc71b6ebb3e17e",
            "value": " 40/40 [00:13&lt;00:00,  2.61it/s]"
          }
        },
        "2320ec5e0377428d96c4eb8803c50cb6": {
          "model_module": "@jupyter-widgets/base",
          "model_name": "LayoutModel",
          "model_module_version": "1.2.0",
          "state": {
            "_model_module": "@jupyter-widgets/base",
            "_model_module_version": "1.2.0",
            "_model_name": "LayoutModel",
            "_view_count": null,
            "_view_module": "@jupyter-widgets/base",
            "_view_module_version": "1.2.0",
            "_view_name": "LayoutView",
            "align_content": null,
            "align_items": null,
            "align_self": null,
            "border": null,
            "bottom": null,
            "display": null,
            "flex": null,
            "flex_flow": null,
            "grid_area": null,
            "grid_auto_columns": null,
            "grid_auto_flow": null,
            "grid_auto_rows": null,
            "grid_column": null,
            "grid_gap": null,
            "grid_row": null,
            "grid_template_areas": null,
            "grid_template_columns": null,
            "grid_template_rows": null,
            "height": null,
            "justify_content": null,
            "justify_items": null,
            "left": null,
            "margin": null,
            "max_height": null,
            "max_width": null,
            "min_height": null,
            "min_width": null,
            "object_fit": null,
            "object_position": null,
            "order": null,
            "overflow": null,
            "overflow_x": null,
            "overflow_y": null,
            "padding": null,
            "right": null,
            "top": null,
            "visibility": null,
            "width": null
          }
        },
        "648d9a32f1544913955db335f365f5a7": {
          "model_module": "@jupyter-widgets/base",
          "model_name": "LayoutModel",
          "model_module_version": "1.2.0",
          "state": {
            "_model_module": "@jupyter-widgets/base",
            "_model_module_version": "1.2.0",
            "_model_name": "LayoutModel",
            "_view_count": null,
            "_view_module": "@jupyter-widgets/base",
            "_view_module_version": "1.2.0",
            "_view_name": "LayoutView",
            "align_content": null,
            "align_items": null,
            "align_self": null,
            "border": null,
            "bottom": null,
            "display": null,
            "flex": null,
            "flex_flow": null,
            "grid_area": null,
            "grid_auto_columns": null,
            "grid_auto_flow": null,
            "grid_auto_rows": null,
            "grid_column": null,
            "grid_gap": null,
            "grid_row": null,
            "grid_template_areas": null,
            "grid_template_columns": null,
            "grid_template_rows": null,
            "height": null,
            "justify_content": null,
            "justify_items": null,
            "left": null,
            "margin": null,
            "max_height": null,
            "max_width": null,
            "min_height": null,
            "min_width": null,
            "object_fit": null,
            "object_position": null,
            "order": null,
            "overflow": null,
            "overflow_x": null,
            "overflow_y": null,
            "padding": null,
            "right": null,
            "top": null,
            "visibility": null,
            "width": null
          }
        },
        "b22ac0eb9e8a41d2898a895081a8f500": {
          "model_module": "@jupyter-widgets/controls",
          "model_name": "DescriptionStyleModel",
          "model_module_version": "1.5.0",
          "state": {
            "_model_module": "@jupyter-widgets/controls",
            "_model_module_version": "1.5.0",
            "_model_name": "DescriptionStyleModel",
            "_view_count": null,
            "_view_module": "@jupyter-widgets/base",
            "_view_module_version": "1.2.0",
            "_view_name": "StyleView",
            "description_width": ""
          }
        },
        "72aa01a7d9b7493fbbd2fcaaca3e9a9c": {
          "model_module": "@jupyter-widgets/base",
          "model_name": "LayoutModel",
          "model_module_version": "1.2.0",
          "state": {
            "_model_module": "@jupyter-widgets/base",
            "_model_module_version": "1.2.0",
            "_model_name": "LayoutModel",
            "_view_count": null,
            "_view_module": "@jupyter-widgets/base",
            "_view_module_version": "1.2.0",
            "_view_name": "LayoutView",
            "align_content": null,
            "align_items": null,
            "align_self": null,
            "border": null,
            "bottom": null,
            "display": null,
            "flex": null,
            "flex_flow": null,
            "grid_area": null,
            "grid_auto_columns": null,
            "grid_auto_flow": null,
            "grid_auto_rows": null,
            "grid_column": null,
            "grid_gap": null,
            "grid_row": null,
            "grid_template_areas": null,
            "grid_template_columns": null,
            "grid_template_rows": null,
            "height": null,
            "justify_content": null,
            "justify_items": null,
            "left": null,
            "margin": null,
            "max_height": null,
            "max_width": null,
            "min_height": null,
            "min_width": null,
            "object_fit": null,
            "object_position": null,
            "order": null,
            "overflow": null,
            "overflow_x": null,
            "overflow_y": null,
            "padding": null,
            "right": null,
            "top": null,
            "visibility": null,
            "width": null
          }
        },
        "df304c4e7dee49789125cc052e96b15a": {
          "model_module": "@jupyter-widgets/controls",
          "model_name": "ProgressStyleModel",
          "model_module_version": "1.5.0",
          "state": {
            "_model_module": "@jupyter-widgets/controls",
            "_model_module_version": "1.5.0",
            "_model_name": "ProgressStyleModel",
            "_view_count": null,
            "_view_module": "@jupyter-widgets/base",
            "_view_module_version": "1.2.0",
            "_view_name": "StyleView",
            "bar_color": null,
            "description_width": ""
          }
        },
        "e5518d2a77a54e87904d813d1d0ee114": {
          "model_module": "@jupyter-widgets/base",
          "model_name": "LayoutModel",
          "model_module_version": "1.2.0",
          "state": {
            "_model_module": "@jupyter-widgets/base",
            "_model_module_version": "1.2.0",
            "_model_name": "LayoutModel",
            "_view_count": null,
            "_view_module": "@jupyter-widgets/base",
            "_view_module_version": "1.2.0",
            "_view_name": "LayoutView",
            "align_content": null,
            "align_items": null,
            "align_self": null,
            "border": null,
            "bottom": null,
            "display": null,
            "flex": null,
            "flex_flow": null,
            "grid_area": null,
            "grid_auto_columns": null,
            "grid_auto_flow": null,
            "grid_auto_rows": null,
            "grid_column": null,
            "grid_gap": null,
            "grid_row": null,
            "grid_template_areas": null,
            "grid_template_columns": null,
            "grid_template_rows": null,
            "height": null,
            "justify_content": null,
            "justify_items": null,
            "left": null,
            "margin": null,
            "max_height": null,
            "max_width": null,
            "min_height": null,
            "min_width": null,
            "object_fit": null,
            "object_position": null,
            "order": null,
            "overflow": null,
            "overflow_x": null,
            "overflow_y": null,
            "padding": null,
            "right": null,
            "top": null,
            "visibility": null,
            "width": null
          }
        },
        "351185488f7449f19dbc71b6ebb3e17e": {
          "model_module": "@jupyter-widgets/controls",
          "model_name": "DescriptionStyleModel",
          "model_module_version": "1.5.0",
          "state": {
            "_model_module": "@jupyter-widgets/controls",
            "_model_module_version": "1.5.0",
            "_model_name": "DescriptionStyleModel",
            "_view_count": null,
            "_view_module": "@jupyter-widgets/base",
            "_view_module_version": "1.2.0",
            "_view_name": "StyleView",
            "description_width": ""
          }
        },
        "cbf8fbaa889844b6b675cd4abd18f718": {
          "model_module": "@jupyter-widgets/controls",
          "model_name": "HBoxModel",
          "model_module_version": "1.5.0",
          "state": {
            "_dom_classes": [],
            "_model_module": "@jupyter-widgets/controls",
            "_model_module_version": "1.5.0",
            "_model_name": "HBoxModel",
            "_view_count": null,
            "_view_module": "@jupyter-widgets/controls",
            "_view_module_version": "1.5.0",
            "_view_name": "HBoxView",
            "box_style": "",
            "children": [
              "IPY_MODEL_b7de2eaebe7e4c46b7a0b9e9baac71a9",
              "IPY_MODEL_b20715bd4c09411fba4c54f3bcece9d8",
              "IPY_MODEL_52aab11ead3245eb8b2b1bf4e8924821"
            ],
            "layout": "IPY_MODEL_8aac49e256134268980adbf143942bde"
          }
        },
        "b7de2eaebe7e4c46b7a0b9e9baac71a9": {
          "model_module": "@jupyter-widgets/controls",
          "model_name": "HTMLModel",
          "model_module_version": "1.5.0",
          "state": {
            "_dom_classes": [],
            "_model_module": "@jupyter-widgets/controls",
            "_model_module_version": "1.5.0",
            "_model_name": "HTMLModel",
            "_view_count": null,
            "_view_module": "@jupyter-widgets/controls",
            "_view_module_version": "1.5.0",
            "_view_name": "HTMLView",
            "description": "",
            "description_tooltip": null,
            "layout": "IPY_MODEL_bce5745303724b58b09a619131d51ca9",
            "placeholder": "​",
            "style": "IPY_MODEL_61da757009774ee3bb963b897f6b7d1a",
            "value": "Evaluating: 100%"
          }
        },
        "b20715bd4c09411fba4c54f3bcece9d8": {
          "model_module": "@jupyter-widgets/controls",
          "model_name": "FloatProgressModel",
          "model_module_version": "1.5.0",
          "state": {
            "_dom_classes": [],
            "_model_module": "@jupyter-widgets/controls",
            "_model_module_version": "1.5.0",
            "_model_name": "FloatProgressModel",
            "_view_count": null,
            "_view_module": "@jupyter-widgets/controls",
            "_view_module_version": "1.5.0",
            "_view_name": "ProgressView",
            "bar_style": "success",
            "description": "",
            "description_tooltip": null,
            "layout": "IPY_MODEL_fffb96908ef84c1e860daf861f1424ea",
            "max": 40,
            "min": 0,
            "orientation": "horizontal",
            "style": "IPY_MODEL_a01bd8692ed44a9680ce9fb267b36bbc",
            "value": 40
          }
        },
        "52aab11ead3245eb8b2b1bf4e8924821": {
          "model_module": "@jupyter-widgets/controls",
          "model_name": "HTMLModel",
          "model_module_version": "1.5.0",
          "state": {
            "_dom_classes": [],
            "_model_module": "@jupyter-widgets/controls",
            "_model_module_version": "1.5.0",
            "_model_name": "HTMLModel",
            "_view_count": null,
            "_view_module": "@jupyter-widgets/controls",
            "_view_module_version": "1.5.0",
            "_view_name": "HTMLView",
            "description": "",
            "description_tooltip": null,
            "layout": "IPY_MODEL_30dda4613d1f41bcb3baf209baca8dde",
            "placeholder": "​",
            "style": "IPY_MODEL_6d4a58a0acb34c3ab6a4103d52ca76bc",
            "value": " 40/40 [00:14&lt;00:00,  1.51it/s]"
          }
        },
        "8aac49e256134268980adbf143942bde": {
          "model_module": "@jupyter-widgets/base",
          "model_name": "LayoutModel",
          "model_module_version": "1.2.0",
          "state": {
            "_model_module": "@jupyter-widgets/base",
            "_model_module_version": "1.2.0",
            "_model_name": "LayoutModel",
            "_view_count": null,
            "_view_module": "@jupyter-widgets/base",
            "_view_module_version": "1.2.0",
            "_view_name": "LayoutView",
            "align_content": null,
            "align_items": null,
            "align_self": null,
            "border": null,
            "bottom": null,
            "display": null,
            "flex": null,
            "flex_flow": null,
            "grid_area": null,
            "grid_auto_columns": null,
            "grid_auto_flow": null,
            "grid_auto_rows": null,
            "grid_column": null,
            "grid_gap": null,
            "grid_row": null,
            "grid_template_areas": null,
            "grid_template_columns": null,
            "grid_template_rows": null,
            "height": null,
            "justify_content": null,
            "justify_items": null,
            "left": null,
            "margin": null,
            "max_height": null,
            "max_width": null,
            "min_height": null,
            "min_width": null,
            "object_fit": null,
            "object_position": null,
            "order": null,
            "overflow": null,
            "overflow_x": null,
            "overflow_y": null,
            "padding": null,
            "right": null,
            "top": null,
            "visibility": null,
            "width": null
          }
        },
        "bce5745303724b58b09a619131d51ca9": {
          "model_module": "@jupyter-widgets/base",
          "model_name": "LayoutModel",
          "model_module_version": "1.2.0",
          "state": {
            "_model_module": "@jupyter-widgets/base",
            "_model_module_version": "1.2.0",
            "_model_name": "LayoutModel",
            "_view_count": null,
            "_view_module": "@jupyter-widgets/base",
            "_view_module_version": "1.2.0",
            "_view_name": "LayoutView",
            "align_content": null,
            "align_items": null,
            "align_self": null,
            "border": null,
            "bottom": null,
            "display": null,
            "flex": null,
            "flex_flow": null,
            "grid_area": null,
            "grid_auto_columns": null,
            "grid_auto_flow": null,
            "grid_auto_rows": null,
            "grid_column": null,
            "grid_gap": null,
            "grid_row": null,
            "grid_template_areas": null,
            "grid_template_columns": null,
            "grid_template_rows": null,
            "height": null,
            "justify_content": null,
            "justify_items": null,
            "left": null,
            "margin": null,
            "max_height": null,
            "max_width": null,
            "min_height": null,
            "min_width": null,
            "object_fit": null,
            "object_position": null,
            "order": null,
            "overflow": null,
            "overflow_x": null,
            "overflow_y": null,
            "padding": null,
            "right": null,
            "top": null,
            "visibility": null,
            "width": null
          }
        },
        "61da757009774ee3bb963b897f6b7d1a": {
          "model_module": "@jupyter-widgets/controls",
          "model_name": "DescriptionStyleModel",
          "model_module_version": "1.5.0",
          "state": {
            "_model_module": "@jupyter-widgets/controls",
            "_model_module_version": "1.5.0",
            "_model_name": "DescriptionStyleModel",
            "_view_count": null,
            "_view_module": "@jupyter-widgets/base",
            "_view_module_version": "1.2.0",
            "_view_name": "StyleView",
            "description_width": ""
          }
        },
        "fffb96908ef84c1e860daf861f1424ea": {
          "model_module": "@jupyter-widgets/base",
          "model_name": "LayoutModel",
          "model_module_version": "1.2.0",
          "state": {
            "_model_module": "@jupyter-widgets/base",
            "_model_module_version": "1.2.0",
            "_model_name": "LayoutModel",
            "_view_count": null,
            "_view_module": "@jupyter-widgets/base",
            "_view_module_version": "1.2.0",
            "_view_name": "LayoutView",
            "align_content": null,
            "align_items": null,
            "align_self": null,
            "border": null,
            "bottom": null,
            "display": null,
            "flex": null,
            "flex_flow": null,
            "grid_area": null,
            "grid_auto_columns": null,
            "grid_auto_flow": null,
            "grid_auto_rows": null,
            "grid_column": null,
            "grid_gap": null,
            "grid_row": null,
            "grid_template_areas": null,
            "grid_template_columns": null,
            "grid_template_rows": null,
            "height": null,
            "justify_content": null,
            "justify_items": null,
            "left": null,
            "margin": null,
            "max_height": null,
            "max_width": null,
            "min_height": null,
            "min_width": null,
            "object_fit": null,
            "object_position": null,
            "order": null,
            "overflow": null,
            "overflow_x": null,
            "overflow_y": null,
            "padding": null,
            "right": null,
            "top": null,
            "visibility": null,
            "width": null
          }
        },
        "a01bd8692ed44a9680ce9fb267b36bbc": {
          "model_module": "@jupyter-widgets/controls",
          "model_name": "ProgressStyleModel",
          "model_module_version": "1.5.0",
          "state": {
            "_model_module": "@jupyter-widgets/controls",
            "_model_module_version": "1.5.0",
            "_model_name": "ProgressStyleModel",
            "_view_count": null,
            "_view_module": "@jupyter-widgets/base",
            "_view_module_version": "1.2.0",
            "_view_name": "StyleView",
            "bar_color": null,
            "description_width": ""
          }
        },
        "30dda4613d1f41bcb3baf209baca8dde": {
          "model_module": "@jupyter-widgets/base",
          "model_name": "LayoutModel",
          "model_module_version": "1.2.0",
          "state": {
            "_model_module": "@jupyter-widgets/base",
            "_model_module_version": "1.2.0",
            "_model_name": "LayoutModel",
            "_view_count": null,
            "_view_module": "@jupyter-widgets/base",
            "_view_module_version": "1.2.0",
            "_view_name": "LayoutView",
            "align_content": null,
            "align_items": null,
            "align_self": null,
            "border": null,
            "bottom": null,
            "display": null,
            "flex": null,
            "flex_flow": null,
            "grid_area": null,
            "grid_auto_columns": null,
            "grid_auto_flow": null,
            "grid_auto_rows": null,
            "grid_column": null,
            "grid_gap": null,
            "grid_row": null,
            "grid_template_areas": null,
            "grid_template_columns": null,
            "grid_template_rows": null,
            "height": null,
            "justify_content": null,
            "justify_items": null,
            "left": null,
            "margin": null,
            "max_height": null,
            "max_width": null,
            "min_height": null,
            "min_width": null,
            "object_fit": null,
            "object_position": null,
            "order": null,
            "overflow": null,
            "overflow_x": null,
            "overflow_y": null,
            "padding": null,
            "right": null,
            "top": null,
            "visibility": null,
            "width": null
          }
        },
        "6d4a58a0acb34c3ab6a4103d52ca76bc": {
          "model_module": "@jupyter-widgets/controls",
          "model_name": "DescriptionStyleModel",
          "model_module_version": "1.5.0",
          "state": {
            "_model_module": "@jupyter-widgets/controls",
            "_model_module_version": "1.5.0",
            "_model_name": "DescriptionStyleModel",
            "_view_count": null,
            "_view_module": "@jupyter-widgets/base",
            "_view_module_version": "1.2.0",
            "_view_name": "StyleView",
            "description_width": ""
          }
        }
      }
    }
  },
  "cells": [
    {
      "cell_type": "markdown",
      "metadata": {
        "id": "view-in-github",
        "colab_type": "text"
      },
      "source": [
        "<a href=\"https://colab.research.google.com/github/sdossou/CSRD_Legislation_RAG/blob/main/CSRD_Semantic_Chunking_LangChain_%26_RAGAS.ipynb\" target=\"_parent\"><img src=\"https://colab.research.google.com/assets/colab-badge.svg\" alt=\"Open In Colab\"/></a>"
      ]
    },
    {
      "cell_type": "markdown",
      "source": [
        "# Semantic Chunking with LangChain and RAGAs using CSRD Directive\n",
        "\n",
        "Installing dependencies"
      ],
      "metadata": {
        "id": "5e7w3Lcl0J8X"
      }
    },
    {
      "cell_type": "code",
      "execution_count": 1,
      "metadata": {
        "colab": {
          "base_uri": "https://localhost:8080/"
        },
        "id": "BFIF7UG2S5SA",
        "outputId": "2a5e23ce-6e27-40a7-932f-152826922d43"
      },
      "outputs": [
        {
          "output_type": "stream",
          "name": "stdout",
          "text": [
            "\u001b[?25l     \u001b[90m━━━━━━━━━━━━━━━━━━━━━━━━━━━━━━━━━━━━━━━━\u001b[0m \u001b[32m0.0/193.4 kB\u001b[0m \u001b[31m?\u001b[0m eta \u001b[36m-:--:--\u001b[0m\r\u001b[2K     \u001b[91m━━━━━━━━━━━━━━━━━━━━━━━━━━━━━\u001b[0m\u001b[91m╸\u001b[0m\u001b[90m━━━━━━━━━━\u001b[0m \u001b[32m143.4/193.4 kB\u001b[0m \u001b[31m4.1 MB/s\u001b[0m eta \u001b[36m0:00:01\u001b[0m\r\u001b[2K     \u001b[90m━━━━━━━━━━━━━━━━━━━━━━━━━━━━━━━━━━━━━━━━\u001b[0m \u001b[32m193.4/193.4 kB\u001b[0m \u001b[31m4.0 MB/s\u001b[0m eta \u001b[36m0:00:00\u001b[0m\n",
            "\u001b[2K     \u001b[90m━━━━━━━━━━━━━━━━━━━━━━━━━━━━━━━━━━━━━━━━\u001b[0m \u001b[32m1.9/1.9 MB\u001b[0m \u001b[31m43.6 MB/s\u001b[0m eta \u001b[36m0:00:00\u001b[0m\n",
            "\u001b[2K     \u001b[90m━━━━━━━━━━━━━━━━━━━━━━━━━━━━━━━━━━━━━━━━\u001b[0m \u001b[32m817.7/817.7 kB\u001b[0m \u001b[31m49.6 MB/s\u001b[0m eta \u001b[36m0:00:00\u001b[0m\n",
            "\u001b[2K     \u001b[90m━━━━━━━━━━━━━━━━━━━━━━━━━━━━━━━━━━━━━━━━\u001b[0m \u001b[32m81.2/81.2 kB\u001b[0m \u001b[31m8.8 MB/s\u001b[0m eta \u001b[36m0:00:00\u001b[0m\n",
            "\u001b[2K     \u001b[90m━━━━━━━━━━━━━━━━━━━━━━━━━━━━━━━━━━━━━━━━\u001b[0m \u001b[32m289.1/289.1 kB\u001b[0m \u001b[31m21.6 MB/s\u001b[0m eta \u001b[36m0:00:00\u001b[0m\n",
            "\u001b[2K     \u001b[90m━━━━━━━━━━━━━━━━━━━━━━━━━━━━━━━━━━━━━━━━\u001b[0m \u001b[32m292.8/292.8 kB\u001b[0m \u001b[31m22.9 MB/s\u001b[0m eta \u001b[36m0:00:00\u001b[0m\n",
            "\u001b[2K     \u001b[90m━━━━━━━━━━━━━━━━━━━━━━━━━━━━━━━━━━━━━━━━\u001b[0m \u001b[32m1.8/1.8 MB\u001b[0m \u001b[31m47.6 MB/s\u001b[0m eta \u001b[36m0:00:00\u001b[0m\n",
            "\u001b[2K     \u001b[90m━━━━━━━━━━━━━━━━━━━━━━━━━━━━━━━━━━━━━━━━\u001b[0m \u001b[32m113.7/113.7 kB\u001b[0m \u001b[31m12.9 MB/s\u001b[0m eta \u001b[36m0:00:00\u001b[0m\n",
            "\u001b[2K     \u001b[90m━━━━━━━━━━━━━━━━━━━━━━━━━━━━━━━━━━━━━━━━\u001b[0m \u001b[32m510.5/510.5 kB\u001b[0m \u001b[31m37.0 MB/s\u001b[0m eta \u001b[36m0:00:00\u001b[0m\n",
            "\u001b[2K     \u001b[90m━━━━━━━━━━━━━━━━━━━━━━━━━━━━━━━━━━━━━━━━\u001b[0m \u001b[32m71.1/71.1 kB\u001b[0m \u001b[31m7.5 MB/s\u001b[0m eta \u001b[36m0:00:00\u001b[0m\n",
            "\u001b[2K     \u001b[90m━━━━━━━━━━━━━━━━━━━━━━━━━━━━━━━━━━━━━━━━\u001b[0m \u001b[32m49.4/49.4 kB\u001b[0m \u001b[31m4.9 MB/s\u001b[0m eta \u001b[36m0:00:00\u001b[0m\n",
            "\u001b[2K     \u001b[90m━━━━━━━━━━━━━━━━━━━━━━━━━━━━━━━━━━━━━━━━\u001b[0m \u001b[32m53.0/53.0 kB\u001b[0m \u001b[31m5.7 MB/s\u001b[0m eta \u001b[36m0:00:00\u001b[0m\n",
            "\u001b[2K     \u001b[90m━━━━━━━━━━━━━━━━━━━━━━━━━━━━━━━━━━━━━━━━\u001b[0m \u001b[32m141.1/141.1 kB\u001b[0m \u001b[31m15.5 MB/s\u001b[0m eta \u001b[36m0:00:00\u001b[0m\n",
            "\u001b[2K     \u001b[90m━━━━━━━━━━━━━━━━━━━━━━━━━━━━━━━━━━━━━━━━\u001b[0m \u001b[32m75.6/75.6 kB\u001b[0m \u001b[31m8.4 MB/s\u001b[0m eta \u001b[36m0:00:00\u001b[0m\n",
            "\u001b[2K     \u001b[90m━━━━━━━━━━━━━━━━━━━━━━━━━━━━━━━━━━━━━━━━\u001b[0m \u001b[32m116.3/116.3 kB\u001b[0m \u001b[31m10.0 MB/s\u001b[0m eta \u001b[36m0:00:00\u001b[0m\n",
            "\u001b[2K     \u001b[90m━━━━━━━━━━━━━━━━━━━━━━━━━━━━━━━━━━━━━━━━\u001b[0m \u001b[32m194.1/194.1 kB\u001b[0m \u001b[31m17.6 MB/s\u001b[0m eta \u001b[36m0:00:00\u001b[0m\n",
            "\u001b[2K     \u001b[90m━━━━━━━━━━━━━━━━━━━━━━━━━━━━━━━━━━━━━━━━\u001b[0m \u001b[32m134.8/134.8 kB\u001b[0m \u001b[31m14.1 MB/s\u001b[0m eta \u001b[36m0:00:00\u001b[0m\n",
            "\u001b[2K     \u001b[90m━━━━━━━━━━━━━━━━━━━━━━━━━━━━━━━━━━━━━━━━\u001b[0m \u001b[32m77.9/77.9 kB\u001b[0m \u001b[31m7.8 MB/s\u001b[0m eta \u001b[36m0:00:00\u001b[0m\n",
            "\u001b[2K     \u001b[90m━━━━━━━━━━━━━━━━━━━━━━━━━━━━━━━━━━━━━━━━\u001b[0m \u001b[32m58.3/58.3 kB\u001b[0m \u001b[31m3.1 MB/s\u001b[0m eta \u001b[36m0:00:00\u001b[0m\n",
            "\u001b[?25h"
          ]
        }
      ],
      "source": [
        "!pip install -qU langchain_experimental langchain_openai langchain_community langchain ragas"
      ]
    },
    {
      "cell_type": "code",
      "source": [
        "!pip install -qU faiss-cpu tiktoken"
      ],
      "metadata": {
        "colab": {
          "base_uri": "https://localhost:8080/"
        },
        "id": "vqnY2Mybfxbp",
        "outputId": "24a319af-29e4-437b-98f9-0359786efb67"
      },
      "execution_count": 2,
      "outputs": [
        {
          "output_type": "stream",
          "name": "stdout",
          "text": [
            "\u001b[2K     \u001b[90m━━━━━━━━━━━━━━━━━━━━━━━━━━━━━━━━━━━━━━━━\u001b[0m \u001b[32m27.0/27.0 MB\u001b[0m \u001b[31m31.4 MB/s\u001b[0m eta \u001b[36m0:00:00\u001b[0m\n",
            "\u001b[?25h"
          ]
        }
      ]
    },
    {
      "cell_type": "markdown",
      "source": [
        "Importing CSRD Directive, Delegated Act and Annex"
      ],
      "metadata": {
        "id": "KHOZSV522COR"
      }
    },
    {
      "cell_type": "code",
      "source": [
        "!wget https://raw.githubusercontent.com/sdossou/CSRD_Legislation_RAG/main/Combined_CSRD_Doc.txt -O \"direct.txt\""
      ],
      "metadata": {
        "colab": {
          "base_uri": "https://localhost:8080/"
        },
        "id": "RmaE2Z9Mbbix",
        "outputId": "9b224c86-87f3-4f51-b32a-05188834d246"
      },
      "execution_count": 3,
      "outputs": [
        {
          "output_type": "stream",
          "name": "stdout",
          "text": [
            "--2024-04-17 11:22:58--  https://raw.githubusercontent.com/sdossou/CSRD_Legislation_RAG/main/Combined_CSRD_Doc.txt\n",
            "Resolving raw.githubusercontent.com (raw.githubusercontent.com)... 185.199.108.133, 185.199.109.133, 185.199.110.133, ...\n",
            "Connecting to raw.githubusercontent.com (raw.githubusercontent.com)|185.199.108.133|:443... connected.\n",
            "HTTP request sent, awaiting response... 200 OK\n",
            "Length: 1220263 (1.2M) [text/plain]\n",
            "Saving to: ‘direct.txt’\n",
            "\n",
            "\rdirect.txt            0%[                    ]       0  --.-KB/s               \rdirect.txt          100%[===================>]   1.16M  --.-KB/s    in 0.01s   \n",
            "\n",
            "2024-04-17 11:22:59 (110 MB/s) - ‘direct.txt’ saved [1220263/1220263]\n",
            "\n"
          ]
        }
      ]
    },
    {
      "cell_type": "code",
      "source": [
        "with open(\"./direct.txt\") as f:\n",
        "  direct_data = f.read()"
      ],
      "metadata": {
        "id": "7tGzjsEhcJgX"
      },
      "execution_count": 4,
      "outputs": []
    },
    {
      "cell_type": "markdown",
      "source": [
        "## RecursiveCharacterTextSplitter or Naive Chunking\n",
        "\n",
        "Using a traditional non-semantic chunking strategy.\n",
        "\n"
      ],
      "metadata": {
        "id": "z3Y0H2fx2Sd3"
      }
    },
    {
      "cell_type": "code",
      "source": [
        "from langchain.text_splitter import RecursiveCharacterTextSplitter\n",
        "\n",
        "text_splitter = RecursiveCharacterTextSplitter(\n",
        "    chunk_size=200,\n",
        "    chunk_overlap=0,\n",
        "    length_function=len,\n",
        "    is_separator_regex=False\n",
        ")"
      ],
      "metadata": {
        "id": "AEFTjiyHbdim"
      },
      "execution_count": 5,
      "outputs": []
    },
    {
      "cell_type": "code",
      "source": [
        "naive_chunks = text_splitter.split_text(direct_data)"
      ],
      "metadata": {
        "id": "vLrEftzob8_r"
      },
      "execution_count": 6,
      "outputs": []
    },
    {
      "cell_type": "code",
      "source": [
        "for chunk in naive_chunks[10:15]:\n",
        "  print(chunk + \"\\n\")"
      ],
      "metadata": {
        "colab": {
          "base_uri": "https://localhost:8080/"
        },
        "id": "Kov5hAYTcQZr",
        "outputId": "b5e8ab1f-e0fb-4dc3-8329-20d13e5f951b"
      },
      "execution_count": 7,
      "outputs": [
        {
          "output_type": "stream",
          "name": "stdout",
          "text": [
            "Directive 2013/34/EU of the European Parliament and of the Council of 26 June 2013 on the annual financial statements,\n",
            "\n",
            "consolidated financial statements and related reports of certain types of undertakings, amending Directive 2006/43/EC of the\n",
            "\n",
            "European Parliament and of the Council and repealing Council Directives 78/660/EEC and 83/349/EEC (OJ L 182, 29.6.2013, p. 19).\n",
            "\n",
            ". The Green Deal is the new growth strategy of the \n",
            "Union. It aims to transform the Union into a modern, resource-efficient and competitive economy with no net\n",
            "\n",
            "emissions of greenhouse gases (GHG) by 2050. It also aims to protect, conserve and enhance the Union's natural\n",
            "\n"
          ]
        }
      ]
    },
    {
      "cell_type": "markdown",
      "source": [
        "This demonstrates that naive chunking splits across sentence and context can be lost.\n",
        "\n",
        "The semantic chunking strategy can help with this issue"
      ],
      "metadata": {
        "id": "bMNhSf5L25Gp"
      }
    },
    {
      "cell_type": "markdown",
      "source": [
        "## Semantic Chunking\n",
        "\n",
        "Importing an OpenAI API key"
      ],
      "metadata": {
        "id": "sYvgnrkT3b-Q"
      }
    },
    {
      "cell_type": "code",
      "source": [
        "import os\n",
        "import getpass\n",
        "\n",
        "os.environ[\"OPENAI_API_KEY\"] = getpass.getpass(\"Enter your OpenAI API Key:\")"
      ],
      "metadata": {
        "colab": {
          "base_uri": "https://localhost:8080/"
        },
        "id": "wihQ77IxdDSt",
        "outputId": "120d11cf-17d4-43f7-f53e-067dd7cdde7b"
      },
      "execution_count": 8,
      "outputs": [
        {
          "name": "stdout",
          "output_type": "stream",
          "text": [
            "Enter your OpenAI API Key:··········\n"
          ]
        }
      ]
    },
    {
      "cell_type": "markdown",
      "source": [
        "Using the `percentile` threshold.\n",
        "In this method, all differences between sentences are calculated, and then any difference greater than the X percentile is split.\n",
        "\n",
        "The approach is as follows:\n",
        "\n",
        "1. Split our document into sentences (based on `.`, `?`, and `!`)\n",
        "2. Index each sentence based on position\n",
        "3. Add a `buffer_size` (`int`) of sentences on either side of our selected sentence\n",
        "4. Calculate distances between groups of sentences\n",
        "5. Merge groups based on similarity of the above thresholds\n",
        "\n",
        "\n",
        "\n"
      ],
      "metadata": {
        "id": "Y6ChDQOz3pH3"
      }
    },
    {
      "cell_type": "code",
      "source": [
        "from langchain_experimental.text_splitter import SemanticChunker\n",
        "from langchain_openai.embeddings import OpenAIEmbeddings\n",
        "\n",
        "semantic_chunker = SemanticChunker(OpenAIEmbeddings(model=\"text-embedding-3-large\"), breakpoint_threshold_type=\"percentile\")"
      ],
      "metadata": {
        "id": "adz4gyEgcvAc"
      },
      "execution_count": 9,
      "outputs": []
    },
    {
      "cell_type": "markdown",
      "source": [
        "Creating semantic chunks"
      ],
      "metadata": {
        "id": "39NvTTFT4LtQ"
      }
    },
    {
      "cell_type": "code",
      "source": [
        "semantic_chunks = semantic_chunker.create_documents([direct_data])"
      ],
      "metadata": {
        "id": "Hwy45Au7dPX_"
      },
      "execution_count": 10,
      "outputs": []
    },
    {
      "cell_type": "markdown",
      "source": [
        "Viewing the naive chunks.\n"
      ],
      "metadata": {
        "id": "3tX_XW1e5Fp6"
      }
    },
    {
      "cell_type": "code",
      "source": [
        "for semantic_chunk in semantic_chunks:\n",
        "  if \"The subsidiary undertakings and branches\" in semantic_chunk.page_content:\n",
        "    print(semantic_chunk.page_content)\n",
        "    print(len(semantic_chunk.page_content))"
      ],
      "metadata": {
        "id": "k66nWfvOdaI-",
        "colab": {
          "base_uri": "https://localhost:8080/"
        },
        "outputId": "f75fbd1c-dad6-431a-b0e7-96cc826c0ff1"
      },
      "execution_count": 11,
      "outputs": [
        {
          "output_type": "stream",
          "name": "stdout",
          "text": [
            "3. The Commission shall, at least every three years after their date of application, review the delegated acts adopted \n",
            "pursuant to this Article, taking into consideration the technical advice of the EFRAG and, where necessary, it shall \n",
            "amend such delegated acts to take into account relevant developments, including developments with regard to \n",
            "international standards. Note (<supNote>1</supNote>)*\n",
            "Commission Delegated Regulation (EU) 2020/1816 of 17 July 2020 supplementing Regulation (EU) 2016/1011 \n",
            "of the European Parliament and of the Council as regards the explanation in the benchmark statement of how \n",
            "environmental, social and governance factors are reflected in each benchmark provided and published (OJ L 406, \n",
            "3.12.2020, p. 1). Note (<supNote>2</supNote>)*\n",
            "Commission Delegated Regulation (EU) 2020/1817 of 17 July 2020 supplementing Regulation (EU) 2016/1011 \n",
            "of the European Parliament and of the Council as regards the minimum content of the explanation on how \n",
            "environmental, social and governance factors are reflected in the benchmark methodology (OJ L 406, 3.12.2020, \n",
            "p. 12). Note (<supNote>3</supNote>)*\n",
            "Commission Delegated Regulation (EU) 2020/1818 of 17 July 2020 supplementing Regulation (EU) 2016/1011 \n",
            "of the European Parliament and of the Council as regards minimum standards for EU Climate Transition \n",
            "Benchmarks and EU Paris-aligned Benchmarks (OJ L 406, 3.12.2020, p. 17). Note (<supNote>4</supNote>)*\n",
            "Commission Recommendation 2013/179/EU of 9 April 2013 on the use of common methods to measure and \n",
            "communicate the life cycle environmental performance of products and organisations (OJ L 124, 4.5.2013, p. 1). Note (<supNote>5</supNote>)*\n",
            "Directive 2003/87/EC of the European Parliament and of the Council of 13 October 2003 establishing a scheme \n",
            "for greenhouse gas emission allowance trading within the Community and amending Council Directive 96/61/EC \n",
            "(OJ L 275, 25.10.2003, p. 32). Note (<supNote>6</supNote>)*\n",
            "Regulation (EC) No 1221/2009 of the European Parliament and of the Council of 25 November 2009 on the \n",
            "voluntary participation by organisations in a Community eco-management and audit scheme (EMAS), repealing \n",
            "Regulation (EC) No 761/2001 and Commission Decisions 2001/681/EC and 2006/193/EC (OJ L 342, \n",
            "22.12.2009, p. 1). Note (<supNote>7</supNote>)*\n",
            "Directive (EU) 2019/1937 of the European Parliament and of the Council of 23 October 2019 on the protection \n",
            "of persons who report breaches of Union law (OJ L 305, 26.11.2019, p. 17).’;\n",
            "\n",
            "\n",
            "(9)\n",
            "\n",
            "the following chapter is inserted:\n",
            "\n",
            "‘CHAPTER 6b\n",
            "\n",
            "SINGLE ELECTRONIC REPORTING FORMAT\n",
            "\n",
            "Article 29d\n",
            "\n",
            "Single electronic reporting format\n",
            "\n",
            "1. Undertakings subject to the requirements of Article 19a of this Directive shall prepare their management report \n",
            "in the electronic reporting format specified in Article 3 of Commission Delegated Regulation (EU) 2019/815 (*) and \n",
            "shall mark up their sustainability reporting, including the disclosures provided for in Article 8 of Regulation (EU) \n",
            "2020/852, in accordance with the electronic reporting format specified in that Delegated Regulation. 2. Parent undertakings subject to the requirements of Article 29a shall prepare their consolidated management \n",
            "report in the electronic reporting format specified in Article 3 of Delegated Regulation (EU) 2019/815 and shall \n",
            "mark up their sustainability reporting, including the disclosures provided for in Article 8 of Regulation (EU) \n",
            "2020/852, in accordance with the electronic reporting format specified in that Delegated Regulation. Note *\n",
            "Commission Delegated Regulation (EU) 2019/815 of 17 December 2018 supplementing Directive 2004/109/EC \n",
            "of the European Parliament and of the Council with regard to regulatory technical standards on the specification \n",
            "of a single electronic reporting format (OJ L 143, 29.5.2019, p. 1).’;\n",
            "\n",
            "\n",
            "\n",
            "\n",
            "\n",
            "\f\n",
            "(10)\n",
            "\n",
            "in Article 30, paragraph 1 is replaced by the following:\n",
            "\n",
            "‘1. Member States shall ensure that undertakings publish within a reasonable period of time, which shall not \n",
            "exceed 12 months after the balance sheet date, the duly approved annual financial statements and the management \n",
            "report, in the electronic reporting format referred to in Article 29d of this Directive where applicable, together with \n",
            "the opinion and statement submitted by the statutory auditor or audit firm referred to in Article 34 of this Directive, \n",
            "as laid down by the laws of each Member State in accordance with Chapter III of Title 1 of Directive (EU) 2017/1132 \n",
            "of the European Parliament and of the Council (*). Member States may require undertakings subject to Articles 19a and 29a to make the management report available to \n",
            "the public on their website, free of charge. Where an undertaking does not have a website, Member States may require \n",
            "it to make a written copy of its management report available upon request. Where an independent assurance services provider expresses the opinion referred to in point (aa) of the second \n",
            "subparagraph of Article 34(1), that opinion shall be published together with the documents referred to in the first \n",
            "subparagraph of this paragraph. Member States may, however, exempt undertakings from the obligation to publish the management report where a \n",
            "copy of all or part of any such report can be easily obtained upon request at a price not exceeding its administrative \n",
            "cost. The exemption laid down in the fourth subparagraph of this paragraph shall not apply to undertakings subject to the \n",
            "requirements on sustainability reporting laid down in Articles 19a and 29a. Note *\n",
            "Directive (EU) 2017/1132 of the European Parliament and of the Council of 14 June 2017 relating to certain \n",
            "aspects of company law (OJ L 169, 30.6.2017, p. 46).’;\n",
            "\n",
            "\n",
            "(11)\n",
            "\n",
            "in Article 33, paragraph 1 is replaced by the following:\n",
            "\n",
            "‘1. Member States shall ensure that the members of the administrative, management and supervisory bodies of an \n",
            "undertaking, acting within the competences assigned to them by national law, have collective responsibility for \n",
            "ensuring that the following documents are drawn up and published in accordance with the requirements of this \n",
            "Directive and, where applicable, with the international accounting standards adopted pursuant to Regulation (EC) \n",
            "No 1606/2002, with Delegated Regulation (EU) 2019/815, with the sustainability reporting standards referred to in \n",
            "Article 29b or Article 29c of this Directive, and with the requirements of Article 29d of this Directive:\n",
            "\n",
            "(a)\n",
            "\n",
            "the annual financial statements, the management report and the corporate governance statement when provided \n",
            "separately; and\n",
            "\n",
            "\n",
            "(b)\n",
            "\n",
            "the consolidated financial statements, the consolidated management reports and the consolidated corporate \n",
            "governance statement when provided separately.’;\n",
            "\n",
            "\n",
            "\n",
            "\n",
            "\n",
            "(12)\n",
            "\n",
            "the title of Chapter 8 is replaced by the following:\n",
            "\n",
            "‘Auditing and assurance of sustainability reporting’;\n",
            "\n",
            "\n",
            "(13)\n",
            "\n",
            "Article 34 is amended as follows:\n",
            "\n",
            "(a)\n",
            "\n",
            "in paragraph 1, the second subparagraph is amended as follows:\n",
            "\n",
            "(i)\n",
            "\n",
            "point (a)(ii) is replaced by the following:\n",
            "\n",
            "‘(ii)\n",
            "\n",
            "whether the management report has been prepared in accordance with the applicable legal requirements, \n",
            "excluding the requirements on sustainability reporting laid down in Article 19a of this Directive;’;\n",
            "\n",
            "\n",
            "\n",
            "\n",
            "\n",
            "\n",
            "\n",
            "\n",
            "\n",
            "\n",
            "\n",
            "\n",
            "\n",
            "\n",
            "\f\n",
            "(ii)\n",
            "\n",
            "the following point is inserted:\n",
            "\n",
            "‘(aa)\n",
            "\n",
            "where applicable, express an opinion based on a limited assurance engagement as regards the \n",
            "compliance of the sustainability reporting with the requirements of this Directive, including the \n",
            "compliance of the sustainability reporting with the sustainability reporting standards adopted pursuant \n",
            "to Article 29b or Article 29c, the process carried out by the undertaking to identify the information \n",
            "reported pursuant to those sustainability reporting standards, and the compliance with the requirement \n",
            "to mark up sustainability reporting in accordance with Article 29d, and as regards the compliance with \n",
            "the reporting requirements provided for in Article 8 of Regulation (EU) 2020/852;’;\n",
            "\n",
            "\n",
            "\n",
            "\n",
            "\n",
            "\n",
            "\n",
            "\n",
            "(b)\n",
            "\n",
            "paragraph 3 is replaced by the following:\n",
            "\n",
            "‘3. Member States may allow a statutory auditor or an audit firm other than the one(s) carrying out the \n",
            "statutory audit of financial statements to express the opinion referred to in point (aa) of the second subparagraph \n",
            "of paragraph 1.’;\n",
            "\n",
            "\n",
            "(c)\n",
            "\n",
            "the following paragraphs are added:\n",
            "\n",
            "‘4. Member States may allow an independent assurance services provider established in their territory to \n",
            "express the opinion referred to in point (aa) of the second subparagraph of paragraph 1, provided that such \n",
            "independent assurance services provider is subject to requirements that are equivalent to those set out in Directive \n",
            "2006/43/EC of the European Parliament and of the Council (*) as regards the assurance of sustainability reporting \n",
            "as defined in point 22 of Article 2 of that Directive, in particular the requirements on:\n",
            "\n",
            "(a)\n",
            "\n",
            "training and examination, ensuring that independent assurance services providers acquire the necessary \n",
            "expertise concerning sustainability reporting and the assurance of sustainability reporting;\n",
            "\n",
            "\n",
            "(b)\n",
            "\n",
            "continuing education;\n",
            "\n",
            "\n",
            "(c)\n",
            "\n",
            "quality assurance systems;\n",
            "\n",
            "\n",
            "(d)\n",
            "\n",
            "professional ethics, independence, objectivity, confidentiality and professional secrecy;\n",
            "\n",
            "\n",
            "(e)\n",
            "\n",
            "appointment and dismissal;\n",
            "\n",
            "\n",
            "(f)\n",
            "\n",
            "investigations and sanctions;\n",
            "\n",
            "\n",
            "(g)\n",
            "\n",
            "the organisation of the work of the independent assurance services provider, in particular in terms of \n",
            "sufficient resources and personnel and the maintenance of client account records and files; and\n",
            "\n",
            "\n",
            "(h)\n",
            "\n",
            "reporting irregularities. Member States shall ensure that, where an independent assurance services provider expresses the opinion referred \n",
            "to in point (aa) of the second subparagraph of paragraph 1 of this Article, that opinion is prepared in accordance \n",
            "with Articles 26a, 27a and 28a of Directive 2006/43/EC and that, where applicable, the audit committee, or a \n",
            "dedicated committee, reviews and monitors the independence of the independent assurance services provider in \n",
            "accordance with point (e) of Article 39(6) of Directive 2006/43/EC. Member States shall ensure that independent assurance services providers accredited before 1 January 2024for \n",
            "the assurance of sustainability reporting, in accordance with Regulation (EC) No 765/2008, are not subject to the \n",
            "training and examination requirements referred to in point (a) of the first subparagraph of this paragraph. Member States shall ensure that independent assurance services providers that on 1 January 2024are undergoing \n",
            "the accreditation process in accordance with the relevant national requirements are not subject to the training and \n",
            "examination requirements referred to in point (a) of the first subparagraph as regards the assurance of \n",
            "sustainability reporting, provided they complete that process by 1 January 2026. Member States shall ensure that the independent assurance services providers referred to in the third and fourth \n",
            "subparagraphs acquire the necessary knowledge in sustainability reporting and the assurance of sustainability \n",
            "reporting via the continuing education requirement referred to in point (b) of the first subparagraph. If a Member State, pursuant to the first subparagraph, decides to allow an independent assurance services provider \n",
            "to express the opinion referred to in point (aa) of the second subparagraph of paragraph 1, it shall also allow a \n",
            "statutory auditor other than the one(s) carrying out the statutory audit of financial statements to do so, as \n",
            "provided for in paragraph 3. 5. From 6 January 2027, a Member State that has made use of the option provided for in paragraph 4 (the \n",
            "“host Member State”) shall allow independent assurance services provider established in a Member State other \n",
            "than the host Member State (the “home Member State”) to carry out the assurance of sustainability reporting. The home Member State shall be responsible for the supervision of the independent assurance services providers \n",
            "established in its territory, unless the host Member State decides to supervise the assurance of sustainability \n",
            "reporting carried out by independent assurance services providers in its territory. If the host Member State decides to supervise the assurance of sustainability reporting carried out in its territory \n",
            "by independent assurance services providers registered in another Member State, the host Member State shall:\n",
            "\n",
            "(a)\n",
            "\n",
            "not impose more stringent requirements or liability on such independent assurance services providers than \n",
            "those required for assurance of sustainability reporting by the national laws for the independent assurance \n",
            "services providers or auditors established in that host Member State; and\n",
            "\n",
            "\n",
            "(b)\n",
            "\n",
            "inform other Member States about its decision to supervise the assurance of sustainability reporting carried \n",
            "out by independent assurance services providers established in other Member States. 6. Member States shall ensure that where an undertaking is required by Union law to have elements of its \n",
            "sustainability reporting verified by an accredited independent third party, the report of the accredited \n",
            "independent third party is made available either as an annex to the management report or by other publicly \n",
            "accessible means. Note *\n",
            "Directive 2006/43/EC of the European Parliament and of the Council of 17 May 2006 on statutory audits of \n",
            "annual accounts and consolidated accounts, amending Council Directives 78/660/EEC and 83/349/EEC and \n",
            "repealing Council Directive 84/253/EEC (OJ L 157, 9.6.2006, p. 87).’;\n",
            "\n",
            "\n",
            "\n",
            "\n",
            "\n",
            "(14)\n",
            "\n",
            "the following chapter is inserted:\n",
            "\n",
            "‘CHAPTER 9a\n",
            "\n",
            "REPORTING CONCERNING THIRD-COUNTRY UNDERTAKINGS\n",
            "\n",
            "Article 40a\n",
            "\n",
            "Sustainability reports concerning third-country undertakings\n",
            "\n",
            "1. A Member State shall require that a subsidiary undertaking established in its territory whose ultimate parent \n",
            "undertaking is governed by the law of a third country publish and make accessible a sustainability report covering \n",
            "the information specified in points (a)(iii) to (a)(v), points (b) to (f) and, where appropriate, point (h) of Article 29a(2) \n",
            "at the group level of that ultimate third-country parent undertaking. The first subparagraph shall only apply to large subsidiary undertakings and to small and medium-sized subsidiary \n",
            "undertakings, except micro undertakings, which are public-interest entities as defined in point (a) of point (1) of \n",
            "Article 2. A Member State shall require that a branch located in its territory, and which is a branch of an undertaking governed \n",
            "by the law of a third country, which is either not part of a group or is ultimately held by an undertaking that is formed \n",
            "in accordance with the law of a third country publish and make accessible a sustainability report covering the \n",
            "information specified in points (a)(iii) to (a)(v), points (b) to (f) and, where appropriate, point (h) of Article 29a(2), at \n",
            "the group level, or, if not applicable, the individual level, of the third-country undertaking. The rule referred to in the third subparagraph shall only apply to a branch where the third-country undertaking does \n",
            "not have a subsidiary undertaking as referred to in the first subparagraph, and where the branch generated a net \n",
            "turnover of more than EUR 40 million in the preceding financial year. The first and third subparagraphs shall only apply to the subsidiary undertakings or branches referred to in those \n",
            "subparagraphs where the third-country undertaking, at its group level, or, if not applicable, the individual level, \n",
            "generated a net turnover of more than EUR 150 million in the Union for each of the last two consecutive financial \n",
            "years. Member States may require subsidiary undertakings or branches referred to in the first and third subparagraphs to \n",
            "send them information about the net turnover generated in their territory and in the Union by the third-country \n",
            "undertakings. 2. Member States shall require that the sustainability report communicated by the subsidiary undertaking or \n",
            "branch as referred to in paragraph 1 is drawn up in accordance with the standards adopted pursuant to Article 40b. By way of derogation from the first subparagraph of this paragraph, the sustainability report referred to in paragraph \n",
            "1 of this Article may be drawn up in accordance with the sustainability reporting standards adopted pursuant to \n",
            "Article 29b or in a manner equivalent to those sustainability reporting standards, as determined in accordance with \n",
            "an implementing act on the equivalence of sustainability reporting standards adopted pursuant to the third \n",
            "subparagraph of Article 23(4) of Directive 2004/109/EC. Where the information required to draw up the sustainability report referred to in the first subparagraph of this \n",
            "paragraph is not available, the subsidiary undertaking or branch referred to in paragraph 1 shall request the third- \n",
            "country undertaking to provide them with all information necessary to enable them to meet their obligations. In the event that not all the required information is provided, the subsidiary undertaking or branch referred to in \n",
            "paragraph 1 shall draw up, publish and make accessible the sustainability report referred to in paragraph 1, \n",
            "containing all information in its possession, obtained or acquired, and issue a statement indicating that the third- \n",
            "country undertaking did not make the necessary information available. 3. Member States shall require that the sustainability report referred to in paragraph 1 is published accompanied \n",
            "by an assurance opinion expressed by one or more person(s) or firm(s) authorised to give an opinion on the \n",
            "assurance of sustainability reporting under the national law of the third-country undertaking or of a Member State. In the event that the third-country undertaking does not provide the assurance opinion in accordance with the first \n",
            "subparagraph, the subsidiary undertaking or branch shall issue a statement indicating that the third-country \n",
            "undertaking did not make the necessary assurance opinion available. 4. Member States may inform the Commission on an annual basis of the subsidiary undertakings or branches of \n",
            "third-country undertakings that fulfilled the publication requirement laid down in Article 40d and of the cases where \n",
            "a report was published but where the subsidiary undertaking or branch has acted in accordance with the fourth \n",
            "subparagraph of paragraph 2 of this Article. The Commission shall make publicly available on its website a list of the \n",
            "third-country undertakings that publish a sustainability report. Article 40b\n",
            "\n",
            "Sustainability reporting standards for third-country undertakings\n",
            "\n",
            "The Commission shall adopt by 30 June 2024a delegated act in accordance with Article 49 supplementing this \n",
            "Directive to provide for sustainability reporting standards for third-country undertakings that specify the \n",
            "information that is to be included in the sustainability reports referred to in Article 40a. Article 40c\n",
            "\n",
            "Responsibility for drawing up, publishing and making accessible sustainability reports concerning third- \n",
            "country undertakings\n",
            "\n",
            "Member States shall provide that the branches of third-country undertakings are responsible for ensuring, to the best \n",
            "of their knowledge and ability, that their sustainability report is drawn up in accordance with Article 40a, and that \n",
            "that report is published and made accessible in accordance with Article 40d. Member States shall provide that the members of the administrative, management and supervisory bodies of the \n",
            "subsidiary undertakings referred to in Article 40a have collective responsibility for ensuring, to the best of their \n",
            "knowledge and ability, that their sustainability report is drawn up in accordance with Article 40a, and that that \n",
            "report is published and made accessible in accordance with Article 40d. Article 40d\n",
            "\n",
            "Publication\n",
            "\n",
            "1. The subsidiary undertakings and branches referred to in Article 40a(1) of this Directive shall publish their \n",
            "sustainability report, together with the assurance opinion and, where applicable, the statement mentioned in the \n",
            "fourth subparagraph of Article 40a(2) of this Directive, within 12 months of the balance sheet date of the financial \n",
            "year for which the report is drawn up, as provided for by each Member State, in accordance with Articles 14 to 28 of \n",
            "Directive (EU) 2017/1132 and, where relevant, in accordance with Article 36 of that Directive. 2. Where the sustainability report together with the assurance opinion and, where applicable, with the statement \n",
            "published in accordance with paragraph 1 of this Article, are not made accessible, free of charge, to the public on the \n",
            "website of the register referred to in Article 16 of Directive (EU) 2017/1132, Member States shall ensure that the \n",
            "sustainability report together with the assurance opinion and, where applicable, with the statement published by the \n",
            "undertakings in accordance with paragraph 1 of this Article, are made accessible to the public in at least one of the \n",
            "official languages of the Union, free of charge, no later than 12 months after the balance sheet date of the financial \n",
            "year for which the report is drawn up, on the website of the subsidiary undertaking or the branch as referred to in \n",
            "Article 40a(1) of this Directive.’;\n",
            "\n",
            "\n",
            "(15)\n",
            "\n",
            "the title of Chapter 11 is replaced by the following:\n",
            "\n",
            "‘CHAPTER 11\n",
            "\n",
            "TRANSITIONAL AND FINAL PROVISIONS’;\n",
            "\n",
            "\n",
            "(16)\n",
            "\n",
            "The following article is inserted:\n",
            "\n",
            "‘Article 48i\n",
            "\n",
            "Transitional provisions\n",
            "\n",
            "1. Until 6 January 2030, Member States shall permit a Union subsidiary undertaking which is subject to \n",
            "Article 19a or 29a and whose parent undertaking is not governed by the law of a Member State to prepare \n",
            "consolidated sustainability reporting, in accordance with the requirements of Article 29a, that includes all Union \n",
            "subsidiary undertakings of such parent undertaking that are subject to Article 19a or 29a. Until 6 January 2030, Member States shall permit the consolidated sustainability reporting referred to in the first \n",
            "subparagraph of this paragraph to include the disclosures laid down in Article 8 of Regulation (EU) 2020/852, \n",
            "covering the activities carried out by all Union subsidiary undertakings of the parent undertaking referred to in the \n",
            "first subparagraph of this paragraph that are subject to Article 19a or 29a of this Directive. 2.\n",
            "22203\n"
          ]
        }
      ]
    },
    {
      "cell_type": "markdown",
      "source": [
        "## Creating a RAG Pipeline Utilising Semantic Chunking\n",
        "\n",
        "Creating a RAG LCEL chain using Semantic Chunks.\n"
      ],
      "metadata": {
        "id": "5zpklrvY5RV-"
      }
    },
    {
      "cell_type": "markdown",
      "source": [
        "### Retrieval\n",
        "\n",
        "Using Meta's FAISS vectorstore, and `text-embedding-3-large`\n"
      ],
      "metadata": {
        "id": "qij7VRIK5e9z"
      }
    },
    {
      "cell_type": "code",
      "source": [
        "from langchain_community.vectorstores import FAISS\n",
        "\n",
        "semantic_chunk_vectorstore = FAISS.from_documents(semantic_chunks, embedding=OpenAIEmbeddings(model=\"text-embedding-3-large\"))"
      ],
      "metadata": {
        "id": "Iw7gxzirfsIO"
      },
      "execution_count": 12,
      "outputs": []
    },
    {
      "cell_type": "markdown",
      "source": [
        "The semantic retriever is set to `k = 1` to compare the semantic and naive chunking approaches."
      ],
      "metadata": {
        "id": "y9nEcnJ55yw5"
      }
    },
    {
      "cell_type": "code",
      "source": [
        "semantic_chunk_retriever = semantic_chunk_vectorstore.as_retriever(search_kwargs={\"k\" : 1})"
      ],
      "metadata": {
        "id": "UmVEs8eBgP4P"
      },
      "execution_count": 13,
      "outputs": []
    },
    {
      "cell_type": "code",
      "source": [
        "semantic_chunk_retriever.invoke(\"What is Article 40b in Chapter 9a about?\")"
      ],
      "metadata": {
        "colab": {
          "base_uri": "https://localhost:8080/"
        },
        "id": "X9tUKruGh-Zn",
        "outputId": "513641d6-32d8-4c79-a446-44c23d6a7f45"
      },
      "execution_count": 14,
      "outputs": [
        {
          "output_type": "execute_result",
          "data": {
            "text/plain": [
              "[Document(page_content='5 Articles 19a(2), second subparagraph, and 29a(2), second subparagraph Accounting Directive.')]"
            ]
          },
          "metadata": {},
          "execution_count": 14
        }
      ]
    },
    {
      "cell_type": "markdown",
      "source": [
        "### Augmented\n",
        "\n",
        "Creating a RAG prompt to augment the question with the retrieved context"
      ],
      "metadata": {
        "id": "wfci5WGd6D5m"
      }
    },
    {
      "cell_type": "code",
      "source": [
        "from langchain_core.prompts import ChatPromptTemplate\n",
        "\n",
        "rag_template = \"\"\"\\\n",
        "Use the following context to answer the user's query. If you cannot answer, please respond with 'I don't know'.\n",
        "\n",
        "User's Query:\n",
        "{question}\n",
        "\n",
        "Context:\n",
        "{context}\n",
        "\"\"\"\n",
        "\n",
        "rag_prompt = ChatPromptTemplate.from_template(rag_template)"
      ],
      "metadata": {
        "id": "nOpS9jUSgc5D"
      },
      "execution_count": 15,
      "outputs": []
    },
    {
      "cell_type": "markdown",
      "source": [
        "### Generation\n",
        "\n",
        "Using `ChatOpenAI` as base model"
      ],
      "metadata": {
        "id": "iW82iOAH6JYa"
      }
    },
    {
      "cell_type": "code",
      "source": [
        "from langchain_openai import ChatOpenAI\n",
        "\n",
        "base_model = ChatOpenAI()"
      ],
      "metadata": {
        "id": "HUvkY6emg9Sf"
      },
      "execution_count": 16,
      "outputs": []
    },
    {
      "cell_type": "markdown",
      "source": [
        "### LCEL Chain\n",
        "Creating the LCEL semantic chain here to compare to the naive chunking LCEL chain"
      ],
      "metadata": {
        "id": "7P2ff9zj6NDR"
      }
    },
    {
      "cell_type": "code",
      "source": [
        "from langchain_core.runnables import RunnablePassthrough\n",
        "from langchain_core.output_parsers import StrOutputParser\n",
        "\n",
        "semantic_rag_chain = (\n",
        "    {\"context\" : semantic_chunk_retriever, \"question\" : RunnablePassthrough()}\n",
        "    | rag_prompt\n",
        "    | base_model\n",
        "    | StrOutputParser()\n",
        ")"
      ],
      "metadata": {
        "id": "dJaehLffhD-s"
      },
      "execution_count": 17,
      "outputs": []
    },
    {
      "cell_type": "markdown",
      "source": [
        "Testing semantic chunking RAG chain"
      ],
      "metadata": {
        "id": "-w_p2KEY6SfB"
      }
    },
    {
      "cell_type": "code",
      "source": [
        "semantic_rag_chain.invoke(\"What is Article 40b in Chapter 9a about?\")"
      ],
      "metadata": {
        "colab": {
          "base_uri": "https://localhost:8080/",
          "height": 35
        },
        "id": "_PYkAZnphdyC",
        "outputId": "17ff8998-9676-42dc-9ef5-3e72718a05ff"
      },
      "execution_count": 18,
      "outputs": [
        {
          "output_type": "execute_result",
          "data": {
            "text/plain": [
              "\"I don't know.\""
            ],
            "application/vnd.google.colaboratory.intrinsic+json": {
              "type": "string"
            }
          },
          "metadata": {},
          "execution_count": 18
        }
      ]
    },
    {
      "cell_type": "code",
      "source": [
        "semantic_rag_chain.invoke(\"what are the key components of the CSRD?\")"
      ],
      "metadata": {
        "colab": {
          "base_uri": "https://localhost:8080/",
          "height": 53
        },
        "id": "328GZVL-jtcg",
        "outputId": "4cb8f5c8-61cb-4533-fcb2-decd7353221c"
      },
      "execution_count": 19,
      "outputs": [
        {
          "output_type": "execute_result",
          "data": {
            "text/plain": [
              "'The key components of the CSRD include cross-cutting standards, topical standards (Environmental, Social and Governance standards), and sector-specific standards.'"
            ],
            "application/vnd.google.colaboratory.intrinsic+json": {
              "type": "string"
            }
          },
          "metadata": {},
          "execution_count": 19
        }
      ]
    },
    {
      "cell_type": "markdown",
      "source": [
        "\n",
        "Testing the naive chunking RAG chain"
      ],
      "metadata": {
        "id": "tIgOOzER6UdG"
      }
    },
    {
      "cell_type": "code",
      "source": [
        "naive_chunk_vectorstore = FAISS.from_texts(naive_chunks, embedding=OpenAIEmbeddings(model=\"text-embedding-3-large\"))"
      ],
      "metadata": {
        "id": "yRAHbTcsjQn2"
      },
      "execution_count": 20,
      "outputs": []
    },
    {
      "cell_type": "markdown",
      "source": [
        "Note:  `k = 15` to make it a fair comparison between the two strategies"
      ],
      "metadata": {
        "id": "VzULRPto8Awz"
      }
    },
    {
      "cell_type": "code",
      "source": [
        "naive_chunk_retriever = naive_chunk_vectorstore.as_retriever(search_kwargs={\"k\" : 15})"
      ],
      "metadata": {
        "id": "YmEl9e3zjei5"
      },
      "execution_count": 21,
      "outputs": []
    },
    {
      "cell_type": "code",
      "source": [
        "naive_rag_chain = (\n",
        "    {\"context\" : naive_chunk_retriever, \"question\" : RunnablePassthrough()}\n",
        "    | rag_prompt\n",
        "    | base_model\n",
        "    | StrOutputParser()\n",
        ")"
      ],
      "metadata": {
        "id": "pGGxvjDFjlBA"
      },
      "execution_count": 22,
      "outputs": []
    },
    {
      "cell_type": "code",
      "source": [
        "naive_rag_chain.invoke(\"What is Article 40b in Chapter 9a about??\")"
      ],
      "metadata": {
        "colab": {
          "base_uri": "https://localhost:8080/",
          "height": 35
        },
        "id": "OlIYioVojn45",
        "outputId": "febdc5b8-2bf7-47ab-b572-e78923a7ecbd"
      },
      "execution_count": 23,
      "outputs": [
        {
          "output_type": "execute_result",
          "data": {
            "text/plain": [
              "'Article 40b in Chapter 9a is about sustainability reporting standards for third-country undertakings.'"
            ],
            "application/vnd.google.colaboratory.intrinsic+json": {
              "type": "string"
            }
          },
          "metadata": {},
          "execution_count": 23
        }
      ]
    },
    {
      "cell_type": "code",
      "source": [
        "naive_rag_chain.invoke(\"What are the key components of the CSRD?\")"
      ],
      "metadata": {
        "colab": {
          "base_uri": "https://localhost:8080/",
          "height": 35
        },
        "id": "DPA2CxyJj0jX",
        "outputId": "9e78e19c-1f10-477f-9f3f-c441b91dfa9e"
      },
      "execution_count": 24,
      "outputs": [
        {
          "output_type": "execute_result",
          "data": {
            "text/plain": [
              "\"I don't know.\""
            ],
            "application/vnd.google.colaboratory.intrinsic+json": {
              "type": "string"
            }
          },
          "metadata": {},
          "execution_count": 24
        }
      ]
    },
    {
      "cell_type": "markdown",
      "source": [
        "## Ragas Assessment Comparison\n",
        "\n",
        "Setting up a new naive chunking strategy\n"
      ],
      "metadata": {
        "id": "plxFmptX8JVG"
      }
    },
    {
      "cell_type": "code",
      "source": [
        "synthetic_data_splitter = RecursiveCharacterTextSplitter(\n",
        "    chunk_size=400,\n",
        "    chunk_overlap=0,\n",
        "    length_function=len,\n",
        "    is_separator_regex=False\n",
        ")"
      ],
      "metadata": {
        "id": "dTsukcTBkB5K"
      },
      "execution_count": 25,
      "outputs": []
    },
    {
      "cell_type": "code",
      "source": [
        "synthetic_data_chunks = synthetic_data_splitter.create_documents([direct_data])"
      ],
      "metadata": {
        "id": "1fgqqFeski2t"
      },
      "execution_count": 26,
      "outputs": []
    },
    {
      "cell_type": "markdown",
      "source": [
        "Creating:\n",
        "\n",
        "- Questions - synthetically generated (`gpt-3.5-turbo`)\n",
        "- Contexts - created above\n",
        "- Ground Truths - synthetically generated (`gpt-4-turbo-preview`)\n",
        "- Answers - generated from our Semantic RAG Chain"
      ],
      "metadata": {
        "id": "-Q292bc58ZEl"
      }
    },
    {
      "cell_type": "code",
      "source": [
        "questions = []\n",
        "ground_truths_semantic = []\n",
        "contexts = []\n",
        "answers = []\n",
        "\n",
        "question_prompt = \"\"\"\\\n",
        "You are an expert in the corporate sustainability reporting directive or CSRD. Please create a question that can be answered by referencing the following context.\n",
        "\n",
        "Context:\n",
        "{context}\n",
        "\"\"\"\n",
        "\n",
        "question_prompt = ChatPromptTemplate.from_template(question_prompt)\n",
        "\n",
        "ground_truth_prompt = \"\"\"\\\n",
        "Use the following context and question to answer this question using *only* the provided context.\n",
        "\n",
        "Question:\n",
        "{question}\n",
        "\n",
        "Context:\n",
        "{context}\n",
        "\"\"\"\n",
        "\n",
        "ground_truth_prompt = ChatPromptTemplate.from_template(ground_truth_prompt)\n",
        "\n",
        "question_chain = question_prompt | ChatOpenAI(model=\"gpt-3.5-turbo\") | StrOutputParser()\n",
        "ground_truth_chain = ground_truth_prompt | ChatOpenAI(model=\"gpt-4-turbo-preview\") | StrOutputParser()\n",
        "\n",
        "for chunk in synthetic_data_chunks[10:20]:\n",
        "  questions.append(question_chain.invoke({\"context\" : chunk.page_content}))\n",
        "  contexts.append([chunk.page_content])\n",
        "  ground_truths_semantic.append(ground_truth_chain.invoke({\"question\" : questions[-1], \"context\" : contexts[-1]}))\n",
        "  answers.append(semantic_rag_chain.invoke(questions[-1]))"
      ],
      "metadata": {
        "id": "uDU80s47kvM4"
      },
      "execution_count": 27,
      "outputs": []
    },
    {
      "cell_type": "markdown",
      "source": [
        "Formating into a dataset."
      ],
      "metadata": {
        "id": "f3xbLo9v83Co"
      }
    },
    {
      "cell_type": "code",
      "source": [
        "from datasets import load_dataset, Dataset\n",
        "\n",
        "qagc_list = []\n",
        "\n",
        "for question, answer, context, ground_truth in zip(questions, answers, contexts, ground_truths_semantic):\n",
        "  qagc_list.append({\n",
        "      \"question\" : question,\n",
        "      \"answer\" : answer,\n",
        "      \"contexts\" : context,\n",
        "      \"ground_truth\" : ground_truth\n",
        "  })\n",
        "\n",
        "eval_dataset = Dataset.from_list(qagc_list)"
      ],
      "metadata": {
        "id": "6lO0juSSzYWp"
      },
      "execution_count": 28,
      "outputs": []
    },
    {
      "cell_type": "code",
      "source": [
        "eval_dataset"
      ],
      "metadata": {
        "colab": {
          "base_uri": "https://localhost:8080/"
        },
        "id": "UL5aF3Ffz0QU",
        "outputId": "b9420883-2e58-4c6c-c3a7-c73c14c810c1"
      },
      "execution_count": 29,
      "outputs": [
        {
          "output_type": "execute_result",
          "data": {
            "text/plain": [
              "Dataset({\n",
              "    features: ['question', 'answer', 'contexts', 'ground_truth'],\n",
              "    num_rows: 10\n",
              "})"
            ]
          },
          "metadata": {},
          "execution_count": 29
        }
      ]
    },
    {
      "cell_type": "markdown",
      "source": [
        "Implementing Ragas metrics and evaluating the created dataset."
      ],
      "metadata": {
        "id": "rnXOZA7T85jh"
      }
    },
    {
      "cell_type": "code",
      "source": [
        "from ragas.metrics import (\n",
        "    answer_relevancy,\n",
        "    faithfulness,\n",
        "    context_recall,\n",
        "    context_precision,\n",
        ")"
      ],
      "metadata": {
        "id": "Qcze7Yra0bMl"
      },
      "execution_count": 30,
      "outputs": []
    },
    {
      "cell_type": "code",
      "source": [
        "from ragas import evaluate\n",
        "\n",
        "result = evaluate(\n",
        "    eval_dataset,\n",
        "    metrics=[\n",
        "        context_precision,\n",
        "        faithfulness,\n",
        "        answer_relevancy,\n",
        "        context_recall,\n",
        "    ],\n",
        ")"
      ],
      "metadata": {
        "colab": {
          "base_uri": "https://localhost:8080/",
          "height": 85,
          "referenced_widgets": [
            "3574b9af0da24367bba7bf150bd00925",
            "c5395dbee5684516991a50665bcdff0d",
            "9d74ddc374bd448aa84ef679a17523b1",
            "b964c9b5eda247a28e64007f3aa870f3",
            "2320ec5e0377428d96c4eb8803c50cb6",
            "648d9a32f1544913955db335f365f5a7",
            "b22ac0eb9e8a41d2898a895081a8f500",
            "72aa01a7d9b7493fbbd2fcaaca3e9a9c",
            "df304c4e7dee49789125cc052e96b15a",
            "e5518d2a77a54e87904d813d1d0ee114",
            "351185488f7449f19dbc71b6ebb3e17e"
          ]
        },
        "id": "zM6Kgmbg1ou3",
        "outputId": "13c682df-6342-45a5-edf7-e0d38bb3e2f4"
      },
      "execution_count": 31,
      "outputs": [
        {
          "output_type": "display_data",
          "data": {
            "text/plain": [
              "Evaluating:   0%|          | 0/40 [00:00<?, ?it/s]"
            ],
            "application/vnd.jupyter.widget-view+json": {
              "version_major": 2,
              "version_minor": 0,
              "model_id": "3574b9af0da24367bba7bf150bd00925"
            }
          },
          "metadata": {}
        },
        {
          "output_type": "stream",
          "name": "stderr",
          "text": [
            "WARNING:ragas.metrics._faithfulness:No statements were generated from the answer.\n",
            "WARNING:ragas.metrics._faithfulness:No statements were generated from the answer.\n"
          ]
        }
      ]
    },
    {
      "cell_type": "code",
      "source": [
        "result"
      ],
      "metadata": {
        "colab": {
          "base_uri": "https://localhost:8080/"
        },
        "id": "k1B-u2in2gmC",
        "outputId": "0b2b00cf-4784-4912-9990-4383954d568b"
      },
      "execution_count": 32,
      "outputs": [
        {
          "output_type": "execute_result",
          "data": {
            "text/plain": [
              "{'context_precision': 0.7000, 'faithfulness': 0.8750, 'answer_relevancy': 0.7401, 'context_recall': 0.8333}"
            ]
          },
          "metadata": {},
          "execution_count": 32
        }
      ]
    },
    {
      "cell_type": "code",
      "source": [
        "results_df = result.to_pandas()\n",
        "results_df"
      ],
      "metadata": {
        "colab": {
          "base_uri": "https://localhost:8080/",
          "height": 4520
        },
        "id": "K3RzQI2H1zlQ",
        "outputId": "b71d5f6e-3b64-46de-c367-9b1c29bcdb6f"
      },
      "execution_count": 33,
      "outputs": [
        {
          "output_type": "execute_result",
          "data": {
            "text/plain": [
              "                                            question  \\\n",
              "0  What specific sustainability goals does the Eu...   \n",
              "1  Question: How does the Corporate Sustainabilit...   \n",
              "2  What are the key differences between the curre...   \n",
              "3  Question: How does the Action Plan on Financin...   \n",
              "4  What is the main purpose of the Corporate Sust...   \n",
              "5  Question: What is the specific regulation adop...   \n",
              "6  Question: How does the Corporate Sustainabilit...   \n",
              "7  Question: How does the Corporate Sustainabilit...   \n",
              "8  Question: What is the official title and date ...   \n",
              "9  Question:\\nHow does the Corporate Sustainabili...   \n",
              "\n",
              "                                              answer  \\\n",
              "0                                      I don't know.   \n",
              "1  The Corporate Sustainability Reporting Directi...   \n",
              "2  The key differences between the current Non-Fi...   \n",
              "3                                      I don't know.   \n",
              "4  The main purpose of the Corporate Sustainabili...   \n",
              "5  The specific regulation adopted by the Europea...   \n",
              "6  The Corporate Sustainability Reporting Directi...   \n",
              "7  The Corporate Sustainability Reporting Directi...   \n",
              "8  The official title of the Regulation is Commis...   \n",
              "9  The Corporate Sustainability Reporting Directi...   \n",
              "\n",
              "                                            contexts  \\\n",
              "0  [makes the objective of climate neutrality by ...   \n",
              "1  [adequately protected. That strategy aims to p...   \n",
              "2                                              [(2)]   \n",
              "3  [In its Communication of 8 March 2018entitled ...   \n",
              "4  [risks stemming from climate change, resource ...   \n",
              "5  [objectives. The European Parliament and the C...   \n",
              "6  [in the financial services sector (OJ L 317, 9...   \n",
              "7  [governs how financial market participants and...   \n",
              "8  [Regulation (EU) 2020/852 of the European Parl...   \n",
              "9  [creates a classification system of \\nenvironm...   \n",
              "\n",
              "                                        ground_truth  context_precision  \\\n",
              "0  The European Commission aims to achieve the fo...                0.0   \n",
              "1  The provided context does not contain specific...                0.0   \n",
              "2  Given the limited context provided as \"(2),\" I...                1.0   \n",
              "3  The Action Plan on Financing Sustainable Growt...                1.0   \n",
              "4  The main purpose of the Corporate Sustainabili...                1.0   \n",
              "5  The specific regulation adopted by the Europea...                1.0   \n",
              "6  Based on the provided context, it is not possi...                0.0   \n",
              "7  The Corporate Sustainability Reporting Directi...                1.0   \n",
              "8  The official title and date of the Regulation ...                1.0   \n",
              "9  The Corporate Sustainability Reporting Directi...                1.0   \n",
              "\n",
              "   faithfulness  answer_relevancy  context_recall  \n",
              "0           NaN          0.000000        0.333333  \n",
              "1           1.0          0.911960        1.000000  \n",
              "2           1.0          0.996318        0.500000  \n",
              "3           NaN          0.000000        0.500000  \n",
              "4           1.0          0.957181        1.000000  \n",
              "5           1.0          0.907852        1.000000  \n",
              "6           1.0          0.931392        1.000000  \n",
              "7           1.0          0.912469        1.000000  \n",
              "8           0.0          0.880026        1.000000  \n",
              "9           1.0          0.904049        1.000000  "
            ],
            "text/html": [
              "\n",
              "  <div id=\"df-cf60a37d-51e7-40a2-85e6-1923bfa5f787\" class=\"colab-df-container\">\n",
              "    <div>\n",
              "<style scoped>\n",
              "    .dataframe tbody tr th:only-of-type {\n",
              "        vertical-align: middle;\n",
              "    }\n",
              "\n",
              "    .dataframe tbody tr th {\n",
              "        vertical-align: top;\n",
              "    }\n",
              "\n",
              "    .dataframe thead th {\n",
              "        text-align: right;\n",
              "    }\n",
              "</style>\n",
              "<table border=\"1\" class=\"dataframe\">\n",
              "  <thead>\n",
              "    <tr style=\"text-align: right;\">\n",
              "      <th></th>\n",
              "      <th>question</th>\n",
              "      <th>answer</th>\n",
              "      <th>contexts</th>\n",
              "      <th>ground_truth</th>\n",
              "      <th>context_precision</th>\n",
              "      <th>faithfulness</th>\n",
              "      <th>answer_relevancy</th>\n",
              "      <th>context_recall</th>\n",
              "    </tr>\n",
              "  </thead>\n",
              "  <tbody>\n",
              "    <tr>\n",
              "      <th>0</th>\n",
              "      <td>What specific sustainability goals does the Eu...</td>\n",
              "      <td>I don't know.</td>\n",
              "      <td>[makes the objective of climate neutrality by ...</td>\n",
              "      <td>The European Commission aims to achieve the fo...</td>\n",
              "      <td>0.0</td>\n",
              "      <td>NaN</td>\n",
              "      <td>0.000000</td>\n",
              "      <td>0.333333</td>\n",
              "    </tr>\n",
              "    <tr>\n",
              "      <th>1</th>\n",
              "      <td>Question: How does the Corporate Sustainabilit...</td>\n",
              "      <td>The Corporate Sustainability Reporting Directi...</td>\n",
              "      <td>[adequately protected. That strategy aims to p...</td>\n",
              "      <td>The provided context does not contain specific...</td>\n",
              "      <td>0.0</td>\n",
              "      <td>1.0</td>\n",
              "      <td>0.911960</td>\n",
              "      <td>1.000000</td>\n",
              "    </tr>\n",
              "    <tr>\n",
              "      <th>2</th>\n",
              "      <td>What are the key differences between the curre...</td>\n",
              "      <td>The key differences between the current Non-Fi...</td>\n",
              "      <td>[(2)]</td>\n",
              "      <td>Given the limited context provided as \"(2),\" I...</td>\n",
              "      <td>1.0</td>\n",
              "      <td>1.0</td>\n",
              "      <td>0.996318</td>\n",
              "      <td>0.500000</td>\n",
              "    </tr>\n",
              "    <tr>\n",
              "      <th>3</th>\n",
              "      <td>Question: How does the Action Plan on Financin...</td>\n",
              "      <td>I don't know.</td>\n",
              "      <td>[In its Communication of 8 March 2018entitled ...</td>\n",
              "      <td>The Action Plan on Financing Sustainable Growt...</td>\n",
              "      <td>1.0</td>\n",
              "      <td>NaN</td>\n",
              "      <td>0.000000</td>\n",
              "      <td>0.500000</td>\n",
              "    </tr>\n",
              "    <tr>\n",
              "      <th>4</th>\n",
              "      <td>What is the main purpose of the Corporate Sust...</td>\n",
              "      <td>The main purpose of the Corporate Sustainabili...</td>\n",
              "      <td>[risks stemming from climate change, resource ...</td>\n",
              "      <td>The main purpose of the Corporate Sustainabili...</td>\n",
              "      <td>1.0</td>\n",
              "      <td>1.0</td>\n",
              "      <td>0.957181</td>\n",
              "      <td>1.000000</td>\n",
              "    </tr>\n",
              "    <tr>\n",
              "      <th>5</th>\n",
              "      <td>Question: What is the specific regulation adop...</td>\n",
              "      <td>The specific regulation adopted by the Europea...</td>\n",
              "      <td>[objectives. The European Parliament and the C...</td>\n",
              "      <td>The specific regulation adopted by the Europea...</td>\n",
              "      <td>1.0</td>\n",
              "      <td>1.0</td>\n",
              "      <td>0.907852</td>\n",
              "      <td>1.000000</td>\n",
              "    </tr>\n",
              "    <tr>\n",
              "      <th>6</th>\n",
              "      <td>Question: How does the Corporate Sustainabilit...</td>\n",
              "      <td>The Corporate Sustainability Reporting Directi...</td>\n",
              "      <td>[in the financial services sector (OJ L 317, 9...</td>\n",
              "      <td>Based on the provided context, it is not possi...</td>\n",
              "      <td>0.0</td>\n",
              "      <td>1.0</td>\n",
              "      <td>0.931392</td>\n",
              "      <td>1.000000</td>\n",
              "    </tr>\n",
              "    <tr>\n",
              "      <th>7</th>\n",
              "      <td>Question: How does the Corporate Sustainabilit...</td>\n",
              "      <td>The Corporate Sustainability Reporting Directi...</td>\n",
              "      <td>[governs how financial market participants and...</td>\n",
              "      <td>The Corporate Sustainability Reporting Directi...</td>\n",
              "      <td>1.0</td>\n",
              "      <td>1.0</td>\n",
              "      <td>0.912469</td>\n",
              "      <td>1.000000</td>\n",
              "    </tr>\n",
              "    <tr>\n",
              "      <th>8</th>\n",
              "      <td>Question: What is the official title and date ...</td>\n",
              "      <td>The official title of the Regulation is Commis...</td>\n",
              "      <td>[Regulation (EU) 2020/852 of the European Parl...</td>\n",
              "      <td>The official title and date of the Regulation ...</td>\n",
              "      <td>1.0</td>\n",
              "      <td>0.0</td>\n",
              "      <td>0.880026</td>\n",
              "      <td>1.000000</td>\n",
              "    </tr>\n",
              "    <tr>\n",
              "      <th>9</th>\n",
              "      <td>Question:\\nHow does the Corporate Sustainabili...</td>\n",
              "      <td>The Corporate Sustainability Reporting Directi...</td>\n",
              "      <td>[creates a classification system of \\nenvironm...</td>\n",
              "      <td>The Corporate Sustainability Reporting Directi...</td>\n",
              "      <td>1.0</td>\n",
              "      <td>1.0</td>\n",
              "      <td>0.904049</td>\n",
              "      <td>1.000000</td>\n",
              "    </tr>\n",
              "  </tbody>\n",
              "</table>\n",
              "</div>\n",
              "    <div class=\"colab-df-buttons\">\n",
              "\n",
              "  <div class=\"colab-df-container\">\n",
              "    <button class=\"colab-df-convert\" onclick=\"convertToInteractive('df-cf60a37d-51e7-40a2-85e6-1923bfa5f787')\"\n",
              "            title=\"Convert this dataframe to an interactive table.\"\n",
              "            style=\"display:none;\">\n",
              "\n",
              "  <svg xmlns=\"http://www.w3.org/2000/svg\" height=\"24px\" viewBox=\"0 -960 960 960\">\n",
              "    <path d=\"M120-120v-720h720v720H120Zm60-500h600v-160H180v160Zm220 220h160v-160H400v160Zm0 220h160v-160H400v160ZM180-400h160v-160H180v160Zm440 0h160v-160H620v160ZM180-180h160v-160H180v160Zm440 0h160v-160H620v160Z\"/>\n",
              "  </svg>\n",
              "    </button>\n",
              "\n",
              "  <style>\n",
              "    .colab-df-container {\n",
              "      display:flex;\n",
              "      gap: 12px;\n",
              "    }\n",
              "\n",
              "    .colab-df-convert {\n",
              "      background-color: #E8F0FE;\n",
              "      border: none;\n",
              "      border-radius: 50%;\n",
              "      cursor: pointer;\n",
              "      display: none;\n",
              "      fill: #1967D2;\n",
              "      height: 32px;\n",
              "      padding: 0 0 0 0;\n",
              "      width: 32px;\n",
              "    }\n",
              "\n",
              "    .colab-df-convert:hover {\n",
              "      background-color: #E2EBFA;\n",
              "      box-shadow: 0px 1px 2px rgba(60, 64, 67, 0.3), 0px 1px 3px 1px rgba(60, 64, 67, 0.15);\n",
              "      fill: #174EA6;\n",
              "    }\n",
              "\n",
              "    .colab-df-buttons div {\n",
              "      margin-bottom: 4px;\n",
              "    }\n",
              "\n",
              "    [theme=dark] .colab-df-convert {\n",
              "      background-color: #3B4455;\n",
              "      fill: #D2E3FC;\n",
              "    }\n",
              "\n",
              "    [theme=dark] .colab-df-convert:hover {\n",
              "      background-color: #434B5C;\n",
              "      box-shadow: 0px 1px 3px 1px rgba(0, 0, 0, 0.15);\n",
              "      filter: drop-shadow(0px 1px 2px rgba(0, 0, 0, 0.3));\n",
              "      fill: #FFFFFF;\n",
              "    }\n",
              "  </style>\n",
              "\n",
              "    <script>\n",
              "      const buttonEl =\n",
              "        document.querySelector('#df-cf60a37d-51e7-40a2-85e6-1923bfa5f787 button.colab-df-convert');\n",
              "      buttonEl.style.display =\n",
              "        google.colab.kernel.accessAllowed ? 'block' : 'none';\n",
              "\n",
              "      async function convertToInteractive(key) {\n",
              "        const element = document.querySelector('#df-cf60a37d-51e7-40a2-85e6-1923bfa5f787');\n",
              "        const dataTable =\n",
              "          await google.colab.kernel.invokeFunction('convertToInteractive',\n",
              "                                                    [key], {});\n",
              "        if (!dataTable) return;\n",
              "\n",
              "        const docLinkHtml = 'Like what you see? Visit the ' +\n",
              "          '<a target=\"_blank\" href=https://colab.research.google.com/notebooks/data_table.ipynb>data table notebook</a>'\n",
              "          + ' to learn more about interactive tables.';\n",
              "        element.innerHTML = '';\n",
              "        dataTable['output_type'] = 'display_data';\n",
              "        await google.colab.output.renderOutput(dataTable, element);\n",
              "        const docLink = document.createElement('div');\n",
              "        docLink.innerHTML = docLinkHtml;\n",
              "        element.appendChild(docLink);\n",
              "      }\n",
              "    </script>\n",
              "  </div>\n",
              "\n",
              "\n",
              "<div id=\"df-e54a884f-cf7b-4b0e-9b75-69b1edbab773\">\n",
              "  <button class=\"colab-df-quickchart\" onclick=\"quickchart('df-e54a884f-cf7b-4b0e-9b75-69b1edbab773')\"\n",
              "            title=\"Suggest charts\"\n",
              "            style=\"display:none;\">\n",
              "\n",
              "<svg xmlns=\"http://www.w3.org/2000/svg\" height=\"24px\"viewBox=\"0 0 24 24\"\n",
              "     width=\"24px\">\n",
              "    <g>\n",
              "        <path d=\"M19 3H5c-1.1 0-2 .9-2 2v14c0 1.1.9 2 2 2h14c1.1 0 2-.9 2-2V5c0-1.1-.9-2-2-2zM9 17H7v-7h2v7zm4 0h-2V7h2v10zm4 0h-2v-4h2v4z\"/>\n",
              "    </g>\n",
              "</svg>\n",
              "  </button>\n",
              "\n",
              "<style>\n",
              "  .colab-df-quickchart {\n",
              "      --bg-color: #E8F0FE;\n",
              "      --fill-color: #1967D2;\n",
              "      --hover-bg-color: #E2EBFA;\n",
              "      --hover-fill-color: #174EA6;\n",
              "      --disabled-fill-color: #AAA;\n",
              "      --disabled-bg-color: #DDD;\n",
              "  }\n",
              "\n",
              "  [theme=dark] .colab-df-quickchart {\n",
              "      --bg-color: #3B4455;\n",
              "      --fill-color: #D2E3FC;\n",
              "      --hover-bg-color: #434B5C;\n",
              "      --hover-fill-color: #FFFFFF;\n",
              "      --disabled-bg-color: #3B4455;\n",
              "      --disabled-fill-color: #666;\n",
              "  }\n",
              "\n",
              "  .colab-df-quickchart {\n",
              "    background-color: var(--bg-color);\n",
              "    border: none;\n",
              "    border-radius: 50%;\n",
              "    cursor: pointer;\n",
              "    display: none;\n",
              "    fill: var(--fill-color);\n",
              "    height: 32px;\n",
              "    padding: 0;\n",
              "    width: 32px;\n",
              "  }\n",
              "\n",
              "  .colab-df-quickchart:hover {\n",
              "    background-color: var(--hover-bg-color);\n",
              "    box-shadow: 0 1px 2px rgba(60, 64, 67, 0.3), 0 1px 3px 1px rgba(60, 64, 67, 0.15);\n",
              "    fill: var(--button-hover-fill-color);\n",
              "  }\n",
              "\n",
              "  .colab-df-quickchart-complete:disabled,\n",
              "  .colab-df-quickchart-complete:disabled:hover {\n",
              "    background-color: var(--disabled-bg-color);\n",
              "    fill: var(--disabled-fill-color);\n",
              "    box-shadow: none;\n",
              "  }\n",
              "\n",
              "  .colab-df-spinner {\n",
              "    border: 2px solid var(--fill-color);\n",
              "    border-color: transparent;\n",
              "    border-bottom-color: var(--fill-color);\n",
              "    animation:\n",
              "      spin 1s steps(1) infinite;\n",
              "  }\n",
              "\n",
              "  @keyframes spin {\n",
              "    0% {\n",
              "      border-color: transparent;\n",
              "      border-bottom-color: var(--fill-color);\n",
              "      border-left-color: var(--fill-color);\n",
              "    }\n",
              "    20% {\n",
              "      border-color: transparent;\n",
              "      border-left-color: var(--fill-color);\n",
              "      border-top-color: var(--fill-color);\n",
              "    }\n",
              "    30% {\n",
              "      border-color: transparent;\n",
              "      border-left-color: var(--fill-color);\n",
              "      border-top-color: var(--fill-color);\n",
              "      border-right-color: var(--fill-color);\n",
              "    }\n",
              "    40% {\n",
              "      border-color: transparent;\n",
              "      border-right-color: var(--fill-color);\n",
              "      border-top-color: var(--fill-color);\n",
              "    }\n",
              "    60% {\n",
              "      border-color: transparent;\n",
              "      border-right-color: var(--fill-color);\n",
              "    }\n",
              "    80% {\n",
              "      border-color: transparent;\n",
              "      border-right-color: var(--fill-color);\n",
              "      border-bottom-color: var(--fill-color);\n",
              "    }\n",
              "    90% {\n",
              "      border-color: transparent;\n",
              "      border-bottom-color: var(--fill-color);\n",
              "    }\n",
              "  }\n",
              "</style>\n",
              "\n",
              "  <script>\n",
              "    async function quickchart(key) {\n",
              "      const quickchartButtonEl =\n",
              "        document.querySelector('#' + key + ' button');\n",
              "      quickchartButtonEl.disabled = true;  // To prevent multiple clicks.\n",
              "      quickchartButtonEl.classList.add('colab-df-spinner');\n",
              "      try {\n",
              "        const charts = await google.colab.kernel.invokeFunction(\n",
              "            'suggestCharts', [key], {});\n",
              "      } catch (error) {\n",
              "        console.error('Error during call to suggestCharts:', error);\n",
              "      }\n",
              "      quickchartButtonEl.classList.remove('colab-df-spinner');\n",
              "      quickchartButtonEl.classList.add('colab-df-quickchart-complete');\n",
              "    }\n",
              "    (() => {\n",
              "      let quickchartButtonEl =\n",
              "        document.querySelector('#df-e54a884f-cf7b-4b0e-9b75-69b1edbab773 button');\n",
              "      quickchartButtonEl.style.display =\n",
              "        google.colab.kernel.accessAllowed ? 'block' : 'none';\n",
              "    })();\n",
              "  </script>\n",
              "</div>\n",
              "    </div>\n",
              "  </div>\n"
            ],
            "application/vnd.google.colaboratory.intrinsic+json": {
              "type": "dataframe",
              "variable_name": "results_df",
              "summary": "{\n  \"name\": \"results_df\",\n  \"rows\": 10,\n  \"fields\": [\n    {\n      \"column\": \"question\",\n      \"properties\": {\n        \"dtype\": \"string\",\n        \"num_unique_values\": 10,\n        \"samples\": [\n          \"Question: What is the official title and date of the Regulation that establishes a framework to facilitate sustainable investment and amends Regulation (EU) 2019/2088?\",\n          \"Question: How does the Corporate Sustainability Reporting Directive (CSRD) contribute to the European Union's strategy to put Europe's biodiversity on a path to recovery by 2030?\",\n          \"Question: What is the specific regulation adopted by the European Parliament and the Council as part of the implementation of the Action Plan on Financing Sustainable Growth that focuses on sustainability-related disclosures?\"\n        ],\n        \"semantic_type\": \"\",\n        \"description\": \"\"\n      }\n    },\n    {\n      \"column\": \"answer\",\n      \"properties\": {\n        \"dtype\": \"string\",\n        \"num_unique_values\": 9,\n        \"samples\": [\n          \"The official title of the Regulation is Commission Delegated Regulation (EU) 2022/1288 and it was published on 25.7.2022.\",\n          \"The Corporate Sustainability Reporting Directive (CSRD) strengthens and revises the non-financial disclosure requirements for large undertakings and listed SMEs, contributing to the European Union's strategy to put Europe's biodiversity on a path to recovery by 2030 by ensuring that companies report certain sustainability information.\",\n          \"The Corporate Sustainability Reporting Directive (CSRD) impacts reporting requirements for companies in the financial services sector by strengthening and revising non-financial disclosure requirements introduced in the Accounting Directive. It expands the sustainability reporting requirements for large undertakings, listed SMEs, and branches or subsidiaries of certain non-EU companies. The reporting obligation for these entities will apply from the financial year 2028, with the specific information to be reported specified in separate standards.\"\n        ],\n        \"semantic_type\": \"\",\n        \"description\": \"\"\n      }\n    },\n    {\n      \"column\": \"contexts\",\n      \"properties\": {\n        \"dtype\": \"object\",\n        \"semantic_type\": \"\",\n        \"description\": \"\"\n      }\n    },\n    {\n      \"column\": \"ground_truth\",\n      \"properties\": {\n        \"dtype\": \"string\",\n        \"num_unique_values\": 10,\n        \"samples\": [\n          \"The official title and date of the Regulation that establishes a framework to facilitate sustainable investment and amends Regulation (EU) 2019/2088 is \\\"Regulation (EU) 2020/852 of the European Parliament and of the Council of 18 June 2020 on the establishment of a framework to facilitate sustainable investment, and amending Regulation (EU) 2019/2088.\\\"\",\n          \"The provided context does not contain specific information about the Corporate Sustainability Reporting Directive (CSRD) or its contributions to the European Union's strategy for biodiversity recovery by 2030. Therefore, based solely on the provided text, it is not possible to determine how the CSRD contributes to this strategy.\",\n          \"The specific regulation adopted by the European Parliament and the Council as part of the implementation of the Action Plan on Financing Sustainable Growth that focuses on sustainability-related disclosures is Regulation (EU) 2019/2088.\"\n        ],\n        \"semantic_type\": \"\",\n        \"description\": \"\"\n      }\n    },\n    {\n      \"column\": \"context_precision\",\n      \"properties\": {\n        \"dtype\": \"number\",\n        \"std\": 0.48304589149134336,\n        \"min\": 0.0,\n        \"max\": 0.9999999999,\n        \"num_unique_values\": 2,\n        \"samples\": [\n          0.9999999999,\n          0.0\n        ],\n        \"semantic_type\": \"\",\n        \"description\": \"\"\n      }\n    },\n    {\n      \"column\": \"faithfulness\",\n      \"properties\": {\n        \"dtype\": \"number\",\n        \"std\": 0.3535533905932738,\n        \"min\": 0.0,\n        \"max\": 1.0,\n        \"num_unique_values\": 2,\n        \"samples\": [\n          0.0,\n          1.0\n        ],\n        \"semantic_type\": \"\",\n        \"description\": \"\"\n      }\n    },\n    {\n      \"column\": \"answer_relevancy\",\n      \"properties\": {\n        \"dtype\": \"number\",\n        \"std\": 0.39139447884021067,\n        \"min\": 0.0,\n        \"max\": 0.9963181659548743,\n        \"num_unique_values\": 9,\n        \"samples\": [\n          0.8800257163381747,\n          0.9119596167734949\n        ],\n        \"semantic_type\": \"\",\n        \"description\": \"\"\n      }\n    },\n    {\n      \"column\": \"context_recall\",\n      \"properties\": {\n        \"dtype\": \"number\",\n        \"std\": 0.2721655269759087,\n        \"min\": 0.3333333333333333,\n        \"max\": 1.0,\n        \"num_unique_values\": 3,\n        \"samples\": [\n          0.3333333333333333,\n          1.0\n        ],\n        \"semantic_type\": \"\",\n        \"description\": \"\"\n      }\n    }\n  ]\n}"
            }
          },
          "metadata": {},
          "execution_count": 33
        }
      ]
    },
    {
      "cell_type": "markdown",
      "source": [
        "The metrics results show some improvements can be made"
      ],
      "metadata": {
        "id": "lUMUQlNF-ZU2"
      }
    },
    {
      "cell_type": "code",
      "source": [
        "for chunk in synthetic_data_chunks[10:20]:\n",
        "  questions.append(question_chain.invoke({\"context\" : chunk.page_content}))\n",
        "  contexts.append([chunk.page_content])\n",
        "  ground_truths_semantic.append(ground_truth_chain.invoke({\"question\" : questions[-1], \"context\" : contexts[-1]}))\n",
        "  answers.append(naive_rag_chain.invoke(questions[-1]))"
      ],
      "metadata": {
        "id": "l4AQdvuX1wvT"
      },
      "execution_count": 34,
      "outputs": []
    },
    {
      "cell_type": "code",
      "source": [
        "naive_result = evaluate(\n",
        "    eval_dataset,\n",
        "    metrics=[\n",
        "        context_precision,\n",
        "        faithfulness,\n",
        "        answer_relevancy,\n",
        "        context_recall,\n",
        "    ],\n",
        ")"
      ],
      "metadata": {
        "colab": {
          "base_uri": "https://localhost:8080/",
          "height": 85,
          "referenced_widgets": [
            "cbf8fbaa889844b6b675cd4abd18f718",
            "b7de2eaebe7e4c46b7a0b9e9baac71a9",
            "b20715bd4c09411fba4c54f3bcece9d8",
            "52aab11ead3245eb8b2b1bf4e8924821",
            "8aac49e256134268980adbf143942bde",
            "bce5745303724b58b09a619131d51ca9",
            "61da757009774ee3bb963b897f6b7d1a",
            "fffb96908ef84c1e860daf861f1424ea",
            "a01bd8692ed44a9680ce9fb267b36bbc",
            "30dda4613d1f41bcb3baf209baca8dde",
            "6d4a58a0acb34c3ab6a4103d52ca76bc"
          ]
        },
        "id": "-VH48jf518j0",
        "outputId": "1656ea78-73f1-4ea4-ba72-aa886ae85047"
      },
      "execution_count": 35,
      "outputs": [
        {
          "output_type": "display_data",
          "data": {
            "text/plain": [
              "Evaluating:   0%|          | 0/40 [00:00<?, ?it/s]"
            ],
            "application/vnd.jupyter.widget-view+json": {
              "version_major": 2,
              "version_minor": 0,
              "model_id": "cbf8fbaa889844b6b675cd4abd18f718"
            }
          },
          "metadata": {}
        },
        {
          "output_type": "stream",
          "name": "stderr",
          "text": [
            "WARNING:ragas.metrics._faithfulness:No statements were generated from the answer.\n",
            "WARNING:ragas.metrics._faithfulness:No statements were generated from the answer.\n"
          ]
        }
      ]
    },
    {
      "cell_type": "code",
      "source": [
        "naive_result"
      ],
      "metadata": {
        "colab": {
          "base_uri": "https://localhost:8080/"
        },
        "id": "cGkoXZdQ2ejX",
        "outputId": "3acbcb69-ad78-4d80-f7a1-9901c194eb6f"
      },
      "execution_count": 36,
      "outputs": [
        {
          "output_type": "execute_result",
          "data": {
            "text/plain": [
              "{'context_precision': 0.7000, 'faithfulness': 0.8750, 'answer_relevancy': 0.7409, 'context_recall': 0.8333}"
            ]
          },
          "metadata": {},
          "execution_count": 36
        }
      ]
    },
    {
      "cell_type": "code",
      "source": [
        "naive_results_df = result.to_pandas()\n",
        "naive_results_df"
      ],
      "metadata": {
        "colab": {
          "base_uri": "https://localhost:8080/",
          "height": 4520
        },
        "id": "1E-pRCPE1-UP",
        "outputId": "f7c114f9-de3c-4ffc-806d-742fecdabf94"
      },
      "execution_count": 37,
      "outputs": [
        {
          "output_type": "execute_result",
          "data": {
            "text/plain": [
              "                                            question  \\\n",
              "0  What specific sustainability goals does the Eu...   \n",
              "1  Question: How does the Corporate Sustainabilit...   \n",
              "2  What are the key differences between the curre...   \n",
              "3  Question: How does the Action Plan on Financin...   \n",
              "4  What is the main purpose of the Corporate Sust...   \n",
              "5  Question: What is the specific regulation adop...   \n",
              "6  Question: How does the Corporate Sustainabilit...   \n",
              "7  Question: How does the Corporate Sustainabilit...   \n",
              "8  Question: What is the official title and date ...   \n",
              "9  Question:\\nHow does the Corporate Sustainabili...   \n",
              "\n",
              "                                              answer  \\\n",
              "0                                      I don't know.   \n",
              "1  The Corporate Sustainability Reporting Directi...   \n",
              "2  The key differences between the current Non-Fi...   \n",
              "3                                      I don't know.   \n",
              "4  The main purpose of the Corporate Sustainabili...   \n",
              "5  The specific regulation adopted by the Europea...   \n",
              "6  The Corporate Sustainability Reporting Directi...   \n",
              "7  The Corporate Sustainability Reporting Directi...   \n",
              "8  The official title of the Regulation is Commis...   \n",
              "9  The Corporate Sustainability Reporting Directi...   \n",
              "\n",
              "                                            contexts  \\\n",
              "0  [makes the objective of climate neutrality by ...   \n",
              "1  [adequately protected. That strategy aims to p...   \n",
              "2                                              [(2)]   \n",
              "3  [In its Communication of 8 March 2018entitled ...   \n",
              "4  [risks stemming from climate change, resource ...   \n",
              "5  [objectives. The European Parliament and the C...   \n",
              "6  [in the financial services sector (OJ L 317, 9...   \n",
              "7  [governs how financial market participants and...   \n",
              "8  [Regulation (EU) 2020/852 of the European Parl...   \n",
              "9  [creates a classification system of \\nenvironm...   \n",
              "\n",
              "                                        ground_truth  context_precision  \\\n",
              "0  The European Commission aims to achieve the fo...                0.0   \n",
              "1  The provided context does not contain specific...                0.0   \n",
              "2  Given the limited context provided as \"(2),\" I...                1.0   \n",
              "3  The Action Plan on Financing Sustainable Growt...                1.0   \n",
              "4  The main purpose of the Corporate Sustainabili...                1.0   \n",
              "5  The specific regulation adopted by the Europea...                1.0   \n",
              "6  Based on the provided context, it is not possi...                0.0   \n",
              "7  The Corporate Sustainability Reporting Directi...                1.0   \n",
              "8  The official title and date of the Regulation ...                1.0   \n",
              "9  The Corporate Sustainability Reporting Directi...                1.0   \n",
              "\n",
              "   faithfulness  answer_relevancy  context_recall  \n",
              "0           NaN          0.000000        0.333333  \n",
              "1           1.0          0.911960        1.000000  \n",
              "2           1.0          0.996318        0.500000  \n",
              "3           NaN          0.000000        0.500000  \n",
              "4           1.0          0.957181        1.000000  \n",
              "5           1.0          0.907852        1.000000  \n",
              "6           1.0          0.931392        1.000000  \n",
              "7           1.0          0.912469        1.000000  \n",
              "8           0.0          0.880026        1.000000  \n",
              "9           1.0          0.904049        1.000000  "
            ],
            "text/html": [
              "\n",
              "  <div id=\"df-1acd588e-de30-49f0-8fdc-e01cfb45c4f6\" class=\"colab-df-container\">\n",
              "    <div>\n",
              "<style scoped>\n",
              "    .dataframe tbody tr th:only-of-type {\n",
              "        vertical-align: middle;\n",
              "    }\n",
              "\n",
              "    .dataframe tbody tr th {\n",
              "        vertical-align: top;\n",
              "    }\n",
              "\n",
              "    .dataframe thead th {\n",
              "        text-align: right;\n",
              "    }\n",
              "</style>\n",
              "<table border=\"1\" class=\"dataframe\">\n",
              "  <thead>\n",
              "    <tr style=\"text-align: right;\">\n",
              "      <th></th>\n",
              "      <th>question</th>\n",
              "      <th>answer</th>\n",
              "      <th>contexts</th>\n",
              "      <th>ground_truth</th>\n",
              "      <th>context_precision</th>\n",
              "      <th>faithfulness</th>\n",
              "      <th>answer_relevancy</th>\n",
              "      <th>context_recall</th>\n",
              "    </tr>\n",
              "  </thead>\n",
              "  <tbody>\n",
              "    <tr>\n",
              "      <th>0</th>\n",
              "      <td>What specific sustainability goals does the Eu...</td>\n",
              "      <td>I don't know.</td>\n",
              "      <td>[makes the objective of climate neutrality by ...</td>\n",
              "      <td>The European Commission aims to achieve the fo...</td>\n",
              "      <td>0.0</td>\n",
              "      <td>NaN</td>\n",
              "      <td>0.000000</td>\n",
              "      <td>0.333333</td>\n",
              "    </tr>\n",
              "    <tr>\n",
              "      <th>1</th>\n",
              "      <td>Question: How does the Corporate Sustainabilit...</td>\n",
              "      <td>The Corporate Sustainability Reporting Directi...</td>\n",
              "      <td>[adequately protected. That strategy aims to p...</td>\n",
              "      <td>The provided context does not contain specific...</td>\n",
              "      <td>0.0</td>\n",
              "      <td>1.0</td>\n",
              "      <td>0.911960</td>\n",
              "      <td>1.000000</td>\n",
              "    </tr>\n",
              "    <tr>\n",
              "      <th>2</th>\n",
              "      <td>What are the key differences between the curre...</td>\n",
              "      <td>The key differences between the current Non-Fi...</td>\n",
              "      <td>[(2)]</td>\n",
              "      <td>Given the limited context provided as \"(2),\" I...</td>\n",
              "      <td>1.0</td>\n",
              "      <td>1.0</td>\n",
              "      <td>0.996318</td>\n",
              "      <td>0.500000</td>\n",
              "    </tr>\n",
              "    <tr>\n",
              "      <th>3</th>\n",
              "      <td>Question: How does the Action Plan on Financin...</td>\n",
              "      <td>I don't know.</td>\n",
              "      <td>[In its Communication of 8 March 2018entitled ...</td>\n",
              "      <td>The Action Plan on Financing Sustainable Growt...</td>\n",
              "      <td>1.0</td>\n",
              "      <td>NaN</td>\n",
              "      <td>0.000000</td>\n",
              "      <td>0.500000</td>\n",
              "    </tr>\n",
              "    <tr>\n",
              "      <th>4</th>\n",
              "      <td>What is the main purpose of the Corporate Sust...</td>\n",
              "      <td>The main purpose of the Corporate Sustainabili...</td>\n",
              "      <td>[risks stemming from climate change, resource ...</td>\n",
              "      <td>The main purpose of the Corporate Sustainabili...</td>\n",
              "      <td>1.0</td>\n",
              "      <td>1.0</td>\n",
              "      <td>0.957181</td>\n",
              "      <td>1.000000</td>\n",
              "    </tr>\n",
              "    <tr>\n",
              "      <th>5</th>\n",
              "      <td>Question: What is the specific regulation adop...</td>\n",
              "      <td>The specific regulation adopted by the Europea...</td>\n",
              "      <td>[objectives. The European Parliament and the C...</td>\n",
              "      <td>The specific regulation adopted by the Europea...</td>\n",
              "      <td>1.0</td>\n",
              "      <td>1.0</td>\n",
              "      <td>0.907852</td>\n",
              "      <td>1.000000</td>\n",
              "    </tr>\n",
              "    <tr>\n",
              "      <th>6</th>\n",
              "      <td>Question: How does the Corporate Sustainabilit...</td>\n",
              "      <td>The Corporate Sustainability Reporting Directi...</td>\n",
              "      <td>[in the financial services sector (OJ L 317, 9...</td>\n",
              "      <td>Based on the provided context, it is not possi...</td>\n",
              "      <td>0.0</td>\n",
              "      <td>1.0</td>\n",
              "      <td>0.931392</td>\n",
              "      <td>1.000000</td>\n",
              "    </tr>\n",
              "    <tr>\n",
              "      <th>7</th>\n",
              "      <td>Question: How does the Corporate Sustainabilit...</td>\n",
              "      <td>The Corporate Sustainability Reporting Directi...</td>\n",
              "      <td>[governs how financial market participants and...</td>\n",
              "      <td>The Corporate Sustainability Reporting Directi...</td>\n",
              "      <td>1.0</td>\n",
              "      <td>1.0</td>\n",
              "      <td>0.912469</td>\n",
              "      <td>1.000000</td>\n",
              "    </tr>\n",
              "    <tr>\n",
              "      <th>8</th>\n",
              "      <td>Question: What is the official title and date ...</td>\n",
              "      <td>The official title of the Regulation is Commis...</td>\n",
              "      <td>[Regulation (EU) 2020/852 of the European Parl...</td>\n",
              "      <td>The official title and date of the Regulation ...</td>\n",
              "      <td>1.0</td>\n",
              "      <td>0.0</td>\n",
              "      <td>0.880026</td>\n",
              "      <td>1.000000</td>\n",
              "    </tr>\n",
              "    <tr>\n",
              "      <th>9</th>\n",
              "      <td>Question:\\nHow does the Corporate Sustainabili...</td>\n",
              "      <td>The Corporate Sustainability Reporting Directi...</td>\n",
              "      <td>[creates a classification system of \\nenvironm...</td>\n",
              "      <td>The Corporate Sustainability Reporting Directi...</td>\n",
              "      <td>1.0</td>\n",
              "      <td>1.0</td>\n",
              "      <td>0.904049</td>\n",
              "      <td>1.000000</td>\n",
              "    </tr>\n",
              "  </tbody>\n",
              "</table>\n",
              "</div>\n",
              "    <div class=\"colab-df-buttons\">\n",
              "\n",
              "  <div class=\"colab-df-container\">\n",
              "    <button class=\"colab-df-convert\" onclick=\"convertToInteractive('df-1acd588e-de30-49f0-8fdc-e01cfb45c4f6')\"\n",
              "            title=\"Convert this dataframe to an interactive table.\"\n",
              "            style=\"display:none;\">\n",
              "\n",
              "  <svg xmlns=\"http://www.w3.org/2000/svg\" height=\"24px\" viewBox=\"0 -960 960 960\">\n",
              "    <path d=\"M120-120v-720h720v720H120Zm60-500h600v-160H180v160Zm220 220h160v-160H400v160Zm0 220h160v-160H400v160ZM180-400h160v-160H180v160Zm440 0h160v-160H620v160ZM180-180h160v-160H180v160Zm440 0h160v-160H620v160Z\"/>\n",
              "  </svg>\n",
              "    </button>\n",
              "\n",
              "  <style>\n",
              "    .colab-df-container {\n",
              "      display:flex;\n",
              "      gap: 12px;\n",
              "    }\n",
              "\n",
              "    .colab-df-convert {\n",
              "      background-color: #E8F0FE;\n",
              "      border: none;\n",
              "      border-radius: 50%;\n",
              "      cursor: pointer;\n",
              "      display: none;\n",
              "      fill: #1967D2;\n",
              "      height: 32px;\n",
              "      padding: 0 0 0 0;\n",
              "      width: 32px;\n",
              "    }\n",
              "\n",
              "    .colab-df-convert:hover {\n",
              "      background-color: #E2EBFA;\n",
              "      box-shadow: 0px 1px 2px rgba(60, 64, 67, 0.3), 0px 1px 3px 1px rgba(60, 64, 67, 0.15);\n",
              "      fill: #174EA6;\n",
              "    }\n",
              "\n",
              "    .colab-df-buttons div {\n",
              "      margin-bottom: 4px;\n",
              "    }\n",
              "\n",
              "    [theme=dark] .colab-df-convert {\n",
              "      background-color: #3B4455;\n",
              "      fill: #D2E3FC;\n",
              "    }\n",
              "\n",
              "    [theme=dark] .colab-df-convert:hover {\n",
              "      background-color: #434B5C;\n",
              "      box-shadow: 0px 1px 3px 1px rgba(0, 0, 0, 0.15);\n",
              "      filter: drop-shadow(0px 1px 2px rgba(0, 0, 0, 0.3));\n",
              "      fill: #FFFFFF;\n",
              "    }\n",
              "  </style>\n",
              "\n",
              "    <script>\n",
              "      const buttonEl =\n",
              "        document.querySelector('#df-1acd588e-de30-49f0-8fdc-e01cfb45c4f6 button.colab-df-convert');\n",
              "      buttonEl.style.display =\n",
              "        google.colab.kernel.accessAllowed ? 'block' : 'none';\n",
              "\n",
              "      async function convertToInteractive(key) {\n",
              "        const element = document.querySelector('#df-1acd588e-de30-49f0-8fdc-e01cfb45c4f6');\n",
              "        const dataTable =\n",
              "          await google.colab.kernel.invokeFunction('convertToInteractive',\n",
              "                                                    [key], {});\n",
              "        if (!dataTable) return;\n",
              "\n",
              "        const docLinkHtml = 'Like what you see? Visit the ' +\n",
              "          '<a target=\"_blank\" href=https://colab.research.google.com/notebooks/data_table.ipynb>data table notebook</a>'\n",
              "          + ' to learn more about interactive tables.';\n",
              "        element.innerHTML = '';\n",
              "        dataTable['output_type'] = 'display_data';\n",
              "        await google.colab.output.renderOutput(dataTable, element);\n",
              "        const docLink = document.createElement('div');\n",
              "        docLink.innerHTML = docLinkHtml;\n",
              "        element.appendChild(docLink);\n",
              "      }\n",
              "    </script>\n",
              "  </div>\n",
              "\n",
              "\n",
              "<div id=\"df-057b8266-39a4-4aca-a01f-807356f41f18\">\n",
              "  <button class=\"colab-df-quickchart\" onclick=\"quickchart('df-057b8266-39a4-4aca-a01f-807356f41f18')\"\n",
              "            title=\"Suggest charts\"\n",
              "            style=\"display:none;\">\n",
              "\n",
              "<svg xmlns=\"http://www.w3.org/2000/svg\" height=\"24px\"viewBox=\"0 0 24 24\"\n",
              "     width=\"24px\">\n",
              "    <g>\n",
              "        <path d=\"M19 3H5c-1.1 0-2 .9-2 2v14c0 1.1.9 2 2 2h14c1.1 0 2-.9 2-2V5c0-1.1-.9-2-2-2zM9 17H7v-7h2v7zm4 0h-2V7h2v10zm4 0h-2v-4h2v4z\"/>\n",
              "    </g>\n",
              "</svg>\n",
              "  </button>\n",
              "\n",
              "<style>\n",
              "  .colab-df-quickchart {\n",
              "      --bg-color: #E8F0FE;\n",
              "      --fill-color: #1967D2;\n",
              "      --hover-bg-color: #E2EBFA;\n",
              "      --hover-fill-color: #174EA6;\n",
              "      --disabled-fill-color: #AAA;\n",
              "      --disabled-bg-color: #DDD;\n",
              "  }\n",
              "\n",
              "  [theme=dark] .colab-df-quickchart {\n",
              "      --bg-color: #3B4455;\n",
              "      --fill-color: #D2E3FC;\n",
              "      --hover-bg-color: #434B5C;\n",
              "      --hover-fill-color: #FFFFFF;\n",
              "      --disabled-bg-color: #3B4455;\n",
              "      --disabled-fill-color: #666;\n",
              "  }\n",
              "\n",
              "  .colab-df-quickchart {\n",
              "    background-color: var(--bg-color);\n",
              "    border: none;\n",
              "    border-radius: 50%;\n",
              "    cursor: pointer;\n",
              "    display: none;\n",
              "    fill: var(--fill-color);\n",
              "    height: 32px;\n",
              "    padding: 0;\n",
              "    width: 32px;\n",
              "  }\n",
              "\n",
              "  .colab-df-quickchart:hover {\n",
              "    background-color: var(--hover-bg-color);\n",
              "    box-shadow: 0 1px 2px rgba(60, 64, 67, 0.3), 0 1px 3px 1px rgba(60, 64, 67, 0.15);\n",
              "    fill: var(--button-hover-fill-color);\n",
              "  }\n",
              "\n",
              "  .colab-df-quickchart-complete:disabled,\n",
              "  .colab-df-quickchart-complete:disabled:hover {\n",
              "    background-color: var(--disabled-bg-color);\n",
              "    fill: var(--disabled-fill-color);\n",
              "    box-shadow: none;\n",
              "  }\n",
              "\n",
              "  .colab-df-spinner {\n",
              "    border: 2px solid var(--fill-color);\n",
              "    border-color: transparent;\n",
              "    border-bottom-color: var(--fill-color);\n",
              "    animation:\n",
              "      spin 1s steps(1) infinite;\n",
              "  }\n",
              "\n",
              "  @keyframes spin {\n",
              "    0% {\n",
              "      border-color: transparent;\n",
              "      border-bottom-color: var(--fill-color);\n",
              "      border-left-color: var(--fill-color);\n",
              "    }\n",
              "    20% {\n",
              "      border-color: transparent;\n",
              "      border-left-color: var(--fill-color);\n",
              "      border-top-color: var(--fill-color);\n",
              "    }\n",
              "    30% {\n",
              "      border-color: transparent;\n",
              "      border-left-color: var(--fill-color);\n",
              "      border-top-color: var(--fill-color);\n",
              "      border-right-color: var(--fill-color);\n",
              "    }\n",
              "    40% {\n",
              "      border-color: transparent;\n",
              "      border-right-color: var(--fill-color);\n",
              "      border-top-color: var(--fill-color);\n",
              "    }\n",
              "    60% {\n",
              "      border-color: transparent;\n",
              "      border-right-color: var(--fill-color);\n",
              "    }\n",
              "    80% {\n",
              "      border-color: transparent;\n",
              "      border-right-color: var(--fill-color);\n",
              "      border-bottom-color: var(--fill-color);\n",
              "    }\n",
              "    90% {\n",
              "      border-color: transparent;\n",
              "      border-bottom-color: var(--fill-color);\n",
              "    }\n",
              "  }\n",
              "</style>\n",
              "\n",
              "  <script>\n",
              "    async function quickchart(key) {\n",
              "      const quickchartButtonEl =\n",
              "        document.querySelector('#' + key + ' button');\n",
              "      quickchartButtonEl.disabled = true;  // To prevent multiple clicks.\n",
              "      quickchartButtonEl.classList.add('colab-df-spinner');\n",
              "      try {\n",
              "        const charts = await google.colab.kernel.invokeFunction(\n",
              "            'suggestCharts', [key], {});\n",
              "      } catch (error) {\n",
              "        console.error('Error during call to suggestCharts:', error);\n",
              "      }\n",
              "      quickchartButtonEl.classList.remove('colab-df-spinner');\n",
              "      quickchartButtonEl.classList.add('colab-df-quickchart-complete');\n",
              "    }\n",
              "    (() => {\n",
              "      let quickchartButtonEl =\n",
              "        document.querySelector('#df-057b8266-39a4-4aca-a01f-807356f41f18 button');\n",
              "      quickchartButtonEl.style.display =\n",
              "        google.colab.kernel.accessAllowed ? 'block' : 'none';\n",
              "    })();\n",
              "  </script>\n",
              "</div>\n",
              "    </div>\n",
              "  </div>\n"
            ],
            "application/vnd.google.colaboratory.intrinsic+json": {
              "type": "dataframe",
              "variable_name": "naive_results_df",
              "summary": "{\n  \"name\": \"naive_results_df\",\n  \"rows\": 10,\n  \"fields\": [\n    {\n      \"column\": \"question\",\n      \"properties\": {\n        \"dtype\": \"string\",\n        \"num_unique_values\": 10,\n        \"samples\": [\n          \"Question: What is the official title and date of the Regulation that establishes a framework to facilitate sustainable investment and amends Regulation (EU) 2019/2088?\",\n          \"Question: How does the Corporate Sustainability Reporting Directive (CSRD) contribute to the European Union's strategy to put Europe's biodiversity on a path to recovery by 2030?\",\n          \"Question: What is the specific regulation adopted by the European Parliament and the Council as part of the implementation of the Action Plan on Financing Sustainable Growth that focuses on sustainability-related disclosures?\"\n        ],\n        \"semantic_type\": \"\",\n        \"description\": \"\"\n      }\n    },\n    {\n      \"column\": \"answer\",\n      \"properties\": {\n        \"dtype\": \"string\",\n        \"num_unique_values\": 9,\n        \"samples\": [\n          \"The official title of the Regulation is Commission Delegated Regulation (EU) 2022/1288 and it was published on 25.7.2022.\",\n          \"The Corporate Sustainability Reporting Directive (CSRD) strengthens and revises the non-financial disclosure requirements for large undertakings and listed SMEs, contributing to the European Union's strategy to put Europe's biodiversity on a path to recovery by 2030 by ensuring that companies report certain sustainability information.\",\n          \"The Corporate Sustainability Reporting Directive (CSRD) impacts reporting requirements for companies in the financial services sector by strengthening and revising non-financial disclosure requirements introduced in the Accounting Directive. It expands the sustainability reporting requirements for large undertakings, listed SMEs, and branches or subsidiaries of certain non-EU companies. The reporting obligation for these entities will apply from the financial year 2028, with the specific information to be reported specified in separate standards.\"\n        ],\n        \"semantic_type\": \"\",\n        \"description\": \"\"\n      }\n    },\n    {\n      \"column\": \"contexts\",\n      \"properties\": {\n        \"dtype\": \"object\",\n        \"semantic_type\": \"\",\n        \"description\": \"\"\n      }\n    },\n    {\n      \"column\": \"ground_truth\",\n      \"properties\": {\n        \"dtype\": \"string\",\n        \"num_unique_values\": 10,\n        \"samples\": [\n          \"The official title and date of the Regulation that establishes a framework to facilitate sustainable investment and amends Regulation (EU) 2019/2088 is \\\"Regulation (EU) 2020/852 of the European Parliament and of the Council of 18 June 2020 on the establishment of a framework to facilitate sustainable investment, and amending Regulation (EU) 2019/2088.\\\"\",\n          \"The provided context does not contain specific information about the Corporate Sustainability Reporting Directive (CSRD) or its contributions to the European Union's strategy for biodiversity recovery by 2030. Therefore, based solely on the provided text, it is not possible to determine how the CSRD contributes to this strategy.\",\n          \"The specific regulation adopted by the European Parliament and the Council as part of the implementation of the Action Plan on Financing Sustainable Growth that focuses on sustainability-related disclosures is Regulation (EU) 2019/2088.\"\n        ],\n        \"semantic_type\": \"\",\n        \"description\": \"\"\n      }\n    },\n    {\n      \"column\": \"context_precision\",\n      \"properties\": {\n        \"dtype\": \"number\",\n        \"std\": 0.48304589149134336,\n        \"min\": 0.0,\n        \"max\": 0.9999999999,\n        \"num_unique_values\": 2,\n        \"samples\": [\n          0.9999999999,\n          0.0\n        ],\n        \"semantic_type\": \"\",\n        \"description\": \"\"\n      }\n    },\n    {\n      \"column\": \"faithfulness\",\n      \"properties\": {\n        \"dtype\": \"number\",\n        \"std\": 0.3535533905932738,\n        \"min\": 0.0,\n        \"max\": 1.0,\n        \"num_unique_values\": 2,\n        \"samples\": [\n          0.0,\n          1.0\n        ],\n        \"semantic_type\": \"\",\n        \"description\": \"\"\n      }\n    },\n    {\n      \"column\": \"answer_relevancy\",\n      \"properties\": {\n        \"dtype\": \"number\",\n        \"std\": 0.39139447884021067,\n        \"min\": 0.0,\n        \"max\": 0.9963181659548743,\n        \"num_unique_values\": 9,\n        \"samples\": [\n          0.8800257163381747,\n          0.9119596167734949\n        ],\n        \"semantic_type\": \"\",\n        \"description\": \"\"\n      }\n    },\n    {\n      \"column\": \"context_recall\",\n      \"properties\": {\n        \"dtype\": \"number\",\n        \"std\": 0.2721655269759087,\n        \"min\": 0.3333333333333333,\n        \"max\": 1.0,\n        \"num_unique_values\": 3,\n        \"samples\": [\n          0.3333333333333333,\n          1.0\n        ],\n        \"semantic_type\": \"\",\n        \"description\": \"\"\n      }\n    }\n  ]\n}"
            }
          },
          "metadata": {},
          "execution_count": 37
        }
      ]
    },
    {
      "cell_type": "markdown",
      "source": [
        "As we can see the results are fairly similar"
      ],
      "metadata": {
        "id": "e5JtfPa7-je7"
      }
    },
    {
      "cell_type": "code",
      "source": [
        "naive_result"
      ],
      "metadata": {
        "colab": {
          "base_uri": "https://localhost:8080/"
        },
        "id": "CmjofoPw-md7",
        "outputId": "80dc04c9-b54c-4786-f8dc-76157b0fdae9"
      },
      "execution_count": 38,
      "outputs": [
        {
          "output_type": "execute_result",
          "data": {
            "text/plain": [
              "{'context_precision': 0.7000, 'faithfulness': 0.8750, 'answer_relevancy': 0.7409, 'context_recall': 0.8333}"
            ]
          },
          "metadata": {},
          "execution_count": 38
        }
      ]
    },
    {
      "cell_type": "code",
      "source": [
        "result"
      ],
      "metadata": {
        "colab": {
          "base_uri": "https://localhost:8080/"
        },
        "id": "_YzKg5Dx-n7_",
        "outputId": "37b351bd-f51a-4446-dba8-018bfbb6737c"
      },
      "execution_count": 39,
      "outputs": [
        {
          "output_type": "execute_result",
          "data": {
            "text/plain": [
              "{'context_precision': 0.7000, 'faithfulness': 0.8750, 'answer_relevancy': 0.7401, 'context_recall': 0.8333}"
            ]
          },
          "metadata": {},
          "execution_count": 39
        }
      ]
    }
  ]
}